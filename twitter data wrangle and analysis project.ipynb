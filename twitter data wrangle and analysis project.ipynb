{
 "cells": [
  {
   "cell_type": "code",
   "execution_count": 1,
   "metadata": {},
   "outputs": [],
   "source": [
    "import pandas as pd \n",
    "import numpy as np\n",
    "import tweepy\n",
    "import datetime\n",
    "import requests\n",
    "import re\n",
    "import matplotlib.pyplot as plt\n",
    "%matplotlib inline\n",
    "import json\n",
    "import os\n",
    "from timeit import default_timer as timer"
   ]
  },
  {
   "cell_type": "markdown",
   "metadata": {},
   "source": [
    "# (1) Gathering data"
   ]
  },
  {
   "cell_type": "code",
   "execution_count": 2,
   "metadata": {},
   "outputs": [
    {
     "data": {
      "text/html": [
       "<div>\n",
       "<style scoped>\n",
       "    .dataframe tbody tr th:only-of-type {\n",
       "        vertical-align: middle;\n",
       "    }\n",
       "\n",
       "    .dataframe tbody tr th {\n",
       "        vertical-align: top;\n",
       "    }\n",
       "\n",
       "    .dataframe thead th {\n",
       "        text-align: right;\n",
       "    }\n",
       "</style>\n",
       "<table border=\"1\" class=\"dataframe\">\n",
       "  <thead>\n",
       "    <tr style=\"text-align: right;\">\n",
       "      <th></th>\n",
       "      <th>tweet_id</th>\n",
       "      <th>in_reply_to_status_id</th>\n",
       "      <th>in_reply_to_user_id</th>\n",
       "      <th>timestamp</th>\n",
       "      <th>source</th>\n",
       "      <th>text</th>\n",
       "      <th>retweeted_status_id</th>\n",
       "      <th>retweeted_status_user_id</th>\n",
       "      <th>retweeted_status_timestamp</th>\n",
       "      <th>expanded_urls</th>\n",
       "      <th>rating_numerator</th>\n",
       "      <th>rating_denominator</th>\n",
       "      <th>name</th>\n",
       "      <th>doggo</th>\n",
       "      <th>floofer</th>\n",
       "      <th>pupper</th>\n",
       "      <th>puppo</th>\n",
       "    </tr>\n",
       "  </thead>\n",
       "  <tbody>\n",
       "    <tr>\n",
       "      <th>0</th>\n",
       "      <td>892420643555336193</td>\n",
       "      <td>NaN</td>\n",
       "      <td>NaN</td>\n",
       "      <td>2017-08-01 16:23:56 +0000</td>\n",
       "      <td>&lt;a href=\"http://twitter.com/download/iphone\" r...</td>\n",
       "      <td>This is Phineas. He's a mystical boy. Only eve...</td>\n",
       "      <td>NaN</td>\n",
       "      <td>NaN</td>\n",
       "      <td>NaN</td>\n",
       "      <td>https://twitter.com/dog_rates/status/892420643...</td>\n",
       "      <td>13</td>\n",
       "      <td>10</td>\n",
       "      <td>Phineas</td>\n",
       "      <td>None</td>\n",
       "      <td>None</td>\n",
       "      <td>None</td>\n",
       "      <td>None</td>\n",
       "    </tr>\n",
       "  </tbody>\n",
       "</table>\n",
       "</div>"
      ],
      "text/plain": [
       "             tweet_id  in_reply_to_status_id  in_reply_to_user_id  \\\n",
       "0  892420643555336193                    NaN                  NaN   \n",
       "\n",
       "                   timestamp  \\\n",
       "0  2017-08-01 16:23:56 +0000   \n",
       "\n",
       "                                              source  \\\n",
       "0  <a href=\"http://twitter.com/download/iphone\" r...   \n",
       "\n",
       "                                                text  retweeted_status_id  \\\n",
       "0  This is Phineas. He's a mystical boy. Only eve...                  NaN   \n",
       "\n",
       "   retweeted_status_user_id retweeted_status_timestamp  \\\n",
       "0                       NaN                        NaN   \n",
       "\n",
       "                                       expanded_urls  rating_numerator  \\\n",
       "0  https://twitter.com/dog_rates/status/892420643...                13   \n",
       "\n",
       "   rating_denominator     name doggo floofer pupper puppo  \n",
       "0                  10  Phineas  None    None   None  None  "
      ]
     },
     "execution_count": 2,
     "metadata": {},
     "output_type": "execute_result"
    }
   ],
   "source": [
    "#read the given file of 'twitter-archive-enhanced.csv'\n",
    "archive= pd.read_csv('twitter-archive-enhanced.csv')\n",
    "archive.head(1)"
   ]
  },
  {
   "cell_type": "code",
   "execution_count": 3,
   "metadata": {},
   "outputs": [
    {
     "data": {
      "text/html": [
       "<div>\n",
       "<style scoped>\n",
       "    .dataframe tbody tr th:only-of-type {\n",
       "        vertical-align: middle;\n",
       "    }\n",
       "\n",
       "    .dataframe tbody tr th {\n",
       "        vertical-align: top;\n",
       "    }\n",
       "\n",
       "    .dataframe thead th {\n",
       "        text-align: right;\n",
       "    }\n",
       "</style>\n",
       "<table border=\"1\" class=\"dataframe\">\n",
       "  <thead>\n",
       "    <tr style=\"text-align: right;\">\n",
       "      <th></th>\n",
       "      <th>tweet_id</th>\n",
       "      <th>jpg_url</th>\n",
       "      <th>img_num</th>\n",
       "      <th>p1</th>\n",
       "      <th>p1_conf</th>\n",
       "      <th>p1_dog</th>\n",
       "      <th>p2</th>\n",
       "      <th>p2_conf</th>\n",
       "      <th>p2_dog</th>\n",
       "      <th>p3</th>\n",
       "      <th>p3_conf</th>\n",
       "      <th>p3_dog</th>\n",
       "    </tr>\n",
       "  </thead>\n",
       "  <tbody>\n",
       "    <tr>\n",
       "      <th>0</th>\n",
       "      <td>666020888022790149</td>\n",
       "      <td>https://pbs.twimg.com/media/CT4udn0WwAA0aMy.jpg</td>\n",
       "      <td>1</td>\n",
       "      <td>Welsh_springer_spaniel</td>\n",
       "      <td>0.465074</td>\n",
       "      <td>True</td>\n",
       "      <td>collie</td>\n",
       "      <td>0.156665</td>\n",
       "      <td>True</td>\n",
       "      <td>Shetland_sheepdog</td>\n",
       "      <td>0.061428</td>\n",
       "      <td>True</td>\n",
       "    </tr>\n",
       "  </tbody>\n",
       "</table>\n",
       "</div>"
      ],
      "text/plain": [
       "             tweet_id                                          jpg_url  \\\n",
       "0  666020888022790149  https://pbs.twimg.com/media/CT4udn0WwAA0aMy.jpg   \n",
       "\n",
       "   img_num                      p1   p1_conf  p1_dog      p2   p2_conf  \\\n",
       "0        1  Welsh_springer_spaniel  0.465074    True  collie  0.156665   \n",
       "\n",
       "   p2_dog                 p3   p3_conf  p3_dog  \n",
       "0    True  Shetland_sheepdog  0.061428    True  "
      ]
     },
     "execution_count": 3,
     "metadata": {},
     "output_type": "execute_result"
    }
   ],
   "source": [
    "#get the file of 'image prediction from a URL'\n",
    "url= 'https://d17h27t6h515a5.cloudfront.net/topher/2017/August/599fd2ad_image-predictions/image-predictions.tsv'\n",
    "response= requests.get(url)\n",
    "\n",
    "if not os.path.isfile(\"img_predictions.tsv\"):\n",
    "    with open(\"img_predictions.tsv\", 'wb') as file:\n",
    "        file.write(response.content)\n",
    "\n",
    "img_predictions= pd.read_csv(\"img_predictions.tsv\", sep='\\t')\n",
    "img_predictions.head(1)\n",
    "\n",
    "## if I used 'w' insted of 'wb' in the open function... I'll need the following code\n",
    "# from io import StringIO\n",
    "# s=str(response.content,'utf-8')\n",
    "# img_predictions= StringIO(s) \n",
    "# img_predictions= pd.read_csv(img_predictions, sep='\\t')\n",
    "# img_predictions.head()"
   ]
  },
  {
   "cell_type": "code",
   "execution_count": 4,
   "metadata": {},
   "outputs": [
    {
     "name": "stdout",
     "output_type": "stream",
     "text": [
      "This is Phineas. He's a mystical boy. Only ever appears in the hole of a donut. 13/10 https://t.co/MgUWQ76dJU \n",
      " dog_rates \n",
      " 34887 \n",
      " 7320\n"
     ]
    }
   ],
   "source": [
    "#get the needed data (retweet count - favorite count) from twitter API\n",
    "consumer_key = '*********'\n",
    "consumer_secret = '*********'\n",
    "access_token = '*********'\n",
    "access_secret = '*********'\n",
    "\n",
    "auth = tweepy.OAuthHandler(consumer_key, consumer_secret)\n",
    "auth.set_access_token(access_token, access_secret)\n",
    "api = tweepy.API(auth)\n",
    "\n",
    "##checking the API\n",
    "tweet= api.get_status(892420643555336193)\n",
    "print(tweet.text,'\\n', tweet.user.screen_name,'\\n', tweet.favorite_count,'\\n', tweet.retweet_count)"
   ]
  },
  {
   "cell_type": "code",
   "execution_count": 5,
   "metadata": {},
   "outputs": [
    {
     "name": "stdout",
     "output_type": "stream",
     "text": [
      "elapsed time= 0.0016329400000358874\n"
     ]
    }
   ],
   "source": [
    "errors= {}\n",
    "start = timer()\n",
    "\n",
    "#if statement: to avoid making the file again (incase we re-run the whole code)\n",
    "if not os.path.isfile('tweet_json.txt'):\n",
    "    with open ('tweet_json.txt', 'w') as file:\n",
    "        \n",
    "        for tweet_id in archive['tweet_id']:\n",
    "            try:\n",
    "                tweet= api.get_status(tweet_id, wait_on_rate_limit=True, wait_on_rate_limit_notify=True, tweet_mode='extended')\n",
    "                json.dump(tweet._json, file)\n",
    "                file.write('\\n')\n",
    "            except Exception as e:\n",
    "                print('error at tweet of id=', tweet_id, ', which is', str(e))\n",
    "                errors[tweet_id]= e\n",
    "\n",
    "end = timer()\n",
    "elapsed_time= end - start\n",
    "print('elapsed time=', elapsed_time)\n",
    "#real elapsed time to gather the data from API=  1288 sec  =  21.5 min"
   ]
  },
  {
   "cell_type": "code",
   "execution_count": 6,
   "metadata": {
    "scrolled": false
   },
   "outputs": [
    {
     "data": {
      "text/html": [
       "<div>\n",
       "<style scoped>\n",
       "    .dataframe tbody tr th:only-of-type {\n",
       "        vertical-align: middle;\n",
       "    }\n",
       "\n",
       "    .dataframe tbody tr th {\n",
       "        vertical-align: top;\n",
       "    }\n",
       "\n",
       "    .dataframe thead th {\n",
       "        text-align: right;\n",
       "    }\n",
       "</style>\n",
       "<table border=\"1\" class=\"dataframe\">\n",
       "  <thead>\n",
       "    <tr style=\"text-align: right;\">\n",
       "      <th></th>\n",
       "      <th>favorite_count</th>\n",
       "      <th>retweet_count</th>\n",
       "      <th>tweet_id</th>\n",
       "    </tr>\n",
       "  </thead>\n",
       "  <tbody>\n",
       "    <tr>\n",
       "      <th>0</th>\n",
       "      <td>34912</td>\n",
       "      <td>7326</td>\n",
       "      <td>892420643555336193</td>\n",
       "    </tr>\n",
       "    <tr>\n",
       "      <th>1</th>\n",
       "      <td>30234</td>\n",
       "      <td>5469</td>\n",
       "      <td>892177421306343426</td>\n",
       "    </tr>\n",
       "    <tr>\n",
       "      <th>2</th>\n",
       "      <td>22752</td>\n",
       "      <td>3616</td>\n",
       "      <td>891815181378084864</td>\n",
       "    </tr>\n",
       "  </tbody>\n",
       "</table>\n",
       "</div>"
      ],
      "text/plain": [
       "   favorite_count  retweet_count            tweet_id\n",
       "0           34912           7326  892420643555336193\n",
       "1           30234           5469  892177421306343426\n",
       "2           22752           3616  891815181378084864"
      ]
     },
     "execution_count": 6,
     "metadata": {},
     "output_type": "execute_result"
    }
   ],
   "source": [
    "tweets_list= []\n",
    "\n",
    "##open tweet_json.txt and read it into a dataframe\n",
    "with open('tweet_json.txt', 'r') as file:\n",
    "    for  line in file:\n",
    "        #I use .loads not .load because the line contains strings\n",
    "        tweet= json.loads(line)\n",
    "        tweet_id= tweet['id']\n",
    "        retweet_count= tweet['retweet_count']\n",
    "        favorite_count= tweet['favorite_count']\n",
    "        tweets_list.append({ 'tweet_id': tweet_id,\n",
    "                    'retweet_count': retweet_count,\n",
    "                    'favorite_count': favorite_count})\n",
    "#         tweets_list.append(tweet)\n",
    "        \n",
    "api_df= pd.DataFrame(tweets_list)        \n",
    "\n",
    "api_df.head(3)"
   ]
  },
  {
   "cell_type": "code",
   "execution_count": null,
   "metadata": {},
   "outputs": [],
   "source": []
  },
  {
   "cell_type": "markdown",
   "metadata": {},
   "source": [
    "# (1) Aseesing data"
   ]
  },
  {
   "cell_type": "markdown",
   "metadata": {},
   "source": [
    "### assesing archive"
   ]
  },
  {
   "cell_type": "code",
   "execution_count": 63,
   "metadata": {
    "collapsed": true
   },
   "outputs": [
    {
     "data": {
      "text/html": [
       "<div>\n",
       "<style scoped>\n",
       "    .dataframe tbody tr th:only-of-type {\n",
       "        vertical-align: middle;\n",
       "    }\n",
       "\n",
       "    .dataframe tbody tr th {\n",
       "        vertical-align: top;\n",
       "    }\n",
       "\n",
       "    .dataframe thead th {\n",
       "        text-align: right;\n",
       "    }\n",
       "</style>\n",
       "<table border=\"1\" class=\"dataframe\">\n",
       "  <thead>\n",
       "    <tr style=\"text-align: right;\">\n",
       "      <th></th>\n",
       "      <th>tweet_id</th>\n",
       "      <th>in_reply_to_status_id</th>\n",
       "      <th>in_reply_to_user_id</th>\n",
       "      <th>timestamp</th>\n",
       "      <th>source</th>\n",
       "      <th>text</th>\n",
       "      <th>retweeted_status_id</th>\n",
       "      <th>retweeted_status_user_id</th>\n",
       "      <th>retweeted_status_timestamp</th>\n",
       "      <th>expanded_urls</th>\n",
       "      <th>rating_numerator</th>\n",
       "      <th>rating_denominator</th>\n",
       "      <th>name</th>\n",
       "      <th>doggo</th>\n",
       "      <th>floofer</th>\n",
       "      <th>pupper</th>\n",
       "      <th>puppo</th>\n",
       "    </tr>\n",
       "  </thead>\n",
       "  <tbody>\n",
       "    <tr>\n",
       "      <th>1</th>\n",
       "      <td>892177421306343426</td>\n",
       "      <td>NaN</td>\n",
       "      <td>NaN</td>\n",
       "      <td>2017-08-01 00:17:27 +0000</td>\n",
       "      <td>&lt;a href=\"http://twitter.com/download/iphone\" r...</td>\n",
       "      <td>This is Tilly. She's just checking pup on you....</td>\n",
       "      <td>NaN</td>\n",
       "      <td>NaN</td>\n",
       "      <td>NaN</td>\n",
       "      <td>https://twitter.com/dog_rates/status/892177421...</td>\n",
       "      <td>13</td>\n",
       "      <td>10</td>\n",
       "      <td>Tilly</td>\n",
       "      <td>None</td>\n",
       "      <td>None</td>\n",
       "      <td>None</td>\n",
       "      <td>None</td>\n",
       "    </tr>\n",
       "    <tr>\n",
       "      <th>1116</th>\n",
       "      <td>732585889486888962</td>\n",
       "      <td>NaN</td>\n",
       "      <td>NaN</td>\n",
       "      <td>2016-05-17 14:57:41 +0000</td>\n",
       "      <td>&lt;a href=\"http://twitter.com/download/iphone\" r...</td>\n",
       "      <td>When your teacher agreed on 10,000 RTs and no ...</td>\n",
       "      <td>NaN</td>\n",
       "      <td>NaN</td>\n",
       "      <td>NaN</td>\n",
       "      <td>https://twitter.com/dog_rates/status/732585889...</td>\n",
       "      <td>10</td>\n",
       "      <td>10</td>\n",
       "      <td>None</td>\n",
       "      <td>None</td>\n",
       "      <td>None</td>\n",
       "      <td>None</td>\n",
       "      <td>None</td>\n",
       "    </tr>\n",
       "    <tr>\n",
       "      <th>1548</th>\n",
       "      <td>689275259254616065</td>\n",
       "      <td>NaN</td>\n",
       "      <td>NaN</td>\n",
       "      <td>2016-01-19 02:36:42 +0000</td>\n",
       "      <td>&lt;a href=\"http://twitter.com/download/iphone\" r...</td>\n",
       "      <td>Meet Lucky. He was showing his friends an extr...</td>\n",
       "      <td>NaN</td>\n",
       "      <td>NaN</td>\n",
       "      <td>NaN</td>\n",
       "      <td>https://twitter.com/dog_rates/status/689275259...</td>\n",
       "      <td>10</td>\n",
       "      <td>10</td>\n",
       "      <td>Lucky</td>\n",
       "      <td>None</td>\n",
       "      <td>None</td>\n",
       "      <td>None</td>\n",
       "      <td>None</td>\n",
       "    </tr>\n",
       "  </tbody>\n",
       "</table>\n",
       "</div>"
      ],
      "text/plain": [
       "                tweet_id  in_reply_to_status_id  in_reply_to_user_id  \\\n",
       "1     892177421306343426                    NaN                  NaN   \n",
       "1116  732585889486888962                    NaN                  NaN   \n",
       "1548  689275259254616065                    NaN                  NaN   \n",
       "\n",
       "                      timestamp  \\\n",
       "1     2017-08-01 00:17:27 +0000   \n",
       "1116  2016-05-17 14:57:41 +0000   \n",
       "1548  2016-01-19 02:36:42 +0000   \n",
       "\n",
       "                                                 source  \\\n",
       "1     <a href=\"http://twitter.com/download/iphone\" r...   \n",
       "1116  <a href=\"http://twitter.com/download/iphone\" r...   \n",
       "1548  <a href=\"http://twitter.com/download/iphone\" r...   \n",
       "\n",
       "                                                   text  retweeted_status_id  \\\n",
       "1     This is Tilly. She's just checking pup on you....                  NaN   \n",
       "1116  When your teacher agreed on 10,000 RTs and no ...                  NaN   \n",
       "1548  Meet Lucky. He was showing his friends an extr...                  NaN   \n",
       "\n",
       "      retweeted_status_user_id retweeted_status_timestamp  \\\n",
       "1                          NaN                        NaN   \n",
       "1116                       NaN                        NaN   \n",
       "1548                       NaN                        NaN   \n",
       "\n",
       "                                          expanded_urls  rating_numerator  \\\n",
       "1     https://twitter.com/dog_rates/status/892177421...                13   \n",
       "1116  https://twitter.com/dog_rates/status/732585889...                10   \n",
       "1548  https://twitter.com/dog_rates/status/689275259...                10   \n",
       "\n",
       "      rating_denominator   name doggo floofer pupper puppo  \n",
       "1                     10  Tilly  None    None   None  None  \n",
       "1116                  10   None  None    None   None  None  \n",
       "1548                  10  Lucky  None    None   None  None  "
      ]
     },
     "execution_count": 63,
     "metadata": {},
     "output_type": "execute_result"
    }
   ],
   "source": [
    "archive.sample(3)\n",
    "# archive[archive['tweet_id']==771014301343748096]['expanded_urls'].tolist()"
   ]
  },
  {
   "cell_type": "code",
   "execution_count": 64,
   "metadata": {
    "collapsed": true
   },
   "outputs": [
    {
     "name": "stdout",
     "output_type": "stream",
     "text": [
      "<class 'pandas.core.frame.DataFrame'>\n",
      "RangeIndex: 2356 entries, 0 to 2355\n",
      "Data columns (total 17 columns):\n",
      "tweet_id                      2356 non-null int64\n",
      "in_reply_to_status_id         78 non-null float64\n",
      "in_reply_to_user_id           78 non-null float64\n",
      "timestamp                     2356 non-null object\n",
      "source                        2356 non-null object\n",
      "text                          2356 non-null object\n",
      "retweeted_status_id           181 non-null float64\n",
      "retweeted_status_user_id      181 non-null float64\n",
      "retweeted_status_timestamp    181 non-null object\n",
      "expanded_urls                 2297 non-null object\n",
      "rating_numerator              2356 non-null int64\n",
      "rating_denominator            2356 non-null int64\n",
      "name                          2356 non-null object\n",
      "doggo                         2356 non-null object\n",
      "floofer                       2356 non-null object\n",
      "pupper                        2356 non-null object\n",
      "puppo                         2356 non-null object\n",
      "dtypes: float64(4), int64(3), object(10)\n",
      "memory usage: 313.0+ KB\n"
     ]
    }
   ],
   "source": [
    "archive.info()"
   ]
  },
  {
   "cell_type": "code",
   "execution_count": 65,
   "metadata": {},
   "outputs": [],
   "source": [
    "### some insight from exploring the data ###\n",
    "#tweet_id is int.. turn to string\n",
    "#timestamp is object .. turn to datatime \n",
    "#name .. some has 'None' - 'a' - 'an' - 'the' ... and the count counts the \"None\"s as values\n",
    "#'doggo', 'floofer', 'pupper', 'puppo'... has \"None\" but not considered as Nulls\n",
    "#in_reply_to_status_id= 78 ... delete all replies\n",
    "#retweeted_status_id= 181 .. delete all retweets\n",
    "\n",
    "#expanded_urls .. some are missing= 2356-2297= 59 (these are tweets with no photos.. so drop them)\n",
    "\n",
    "#twitter_id= 696490539101908992 ... rating_numerator= 1 .. no URL\n",
    "#twitter_id= 667538891197542400 ... rating_numerator= 9 .. in 2015 (maybe they gave below 10 at begging)\n",
    "#twitter_id= 708853462201716736 ... url is from 'vine' not 'twitter'"
   ]
  },
  {
   "cell_type": "code",
   "execution_count": 9,
   "metadata": {},
   "outputs": [
    {
     "data": {
      "text/html": [
       "<div>\n",
       "<style scoped>\n",
       "    .dataframe tbody tr th:only-of-type {\n",
       "        vertical-align: middle;\n",
       "    }\n",
       "\n",
       "    .dataframe tbody tr th {\n",
       "        vertical-align: top;\n",
       "    }\n",
       "\n",
       "    .dataframe thead th {\n",
       "        text-align: right;\n",
       "    }\n",
       "</style>\n",
       "<table border=\"1\" class=\"dataframe\">\n",
       "  <thead>\n",
       "    <tr style=\"text-align: right;\">\n",
       "      <th></th>\n",
       "      <th>tweet_id</th>\n",
       "      <th>in_reply_to_status_id</th>\n",
       "      <th>in_reply_to_user_id</th>\n",
       "      <th>retweeted_status_id</th>\n",
       "      <th>retweeted_status_user_id</th>\n",
       "      <th>rating_numerator</th>\n",
       "      <th>rating_denominator</th>\n",
       "    </tr>\n",
       "  </thead>\n",
       "  <tbody>\n",
       "    <tr>\n",
       "      <th>count</th>\n",
       "      <td>2.356000e+03</td>\n",
       "      <td>7.800000e+01</td>\n",
       "      <td>7.800000e+01</td>\n",
       "      <td>1.810000e+02</td>\n",
       "      <td>1.810000e+02</td>\n",
       "      <td>2356.000000</td>\n",
       "      <td>2356.000000</td>\n",
       "    </tr>\n",
       "    <tr>\n",
       "      <th>mean</th>\n",
       "      <td>7.427716e+17</td>\n",
       "      <td>7.455079e+17</td>\n",
       "      <td>2.014171e+16</td>\n",
       "      <td>7.720400e+17</td>\n",
       "      <td>1.241698e+16</td>\n",
       "      <td>13.126486</td>\n",
       "      <td>10.455433</td>\n",
       "    </tr>\n",
       "    <tr>\n",
       "      <th>std</th>\n",
       "      <td>6.856705e+16</td>\n",
       "      <td>7.582492e+16</td>\n",
       "      <td>1.252797e+17</td>\n",
       "      <td>6.236928e+16</td>\n",
       "      <td>9.599254e+16</td>\n",
       "      <td>45.876648</td>\n",
       "      <td>6.745237</td>\n",
       "    </tr>\n",
       "    <tr>\n",
       "      <th>min</th>\n",
       "      <td>6.660209e+17</td>\n",
       "      <td>6.658147e+17</td>\n",
       "      <td>1.185634e+07</td>\n",
       "      <td>6.661041e+17</td>\n",
       "      <td>7.832140e+05</td>\n",
       "      <td>0.000000</td>\n",
       "      <td>0.000000</td>\n",
       "    </tr>\n",
       "    <tr>\n",
       "      <th>25%</th>\n",
       "      <td>6.783989e+17</td>\n",
       "      <td>6.757419e+17</td>\n",
       "      <td>3.086374e+08</td>\n",
       "      <td>7.186315e+17</td>\n",
       "      <td>4.196984e+09</td>\n",
       "      <td>10.000000</td>\n",
       "      <td>10.000000</td>\n",
       "    </tr>\n",
       "    <tr>\n",
       "      <th>50%</th>\n",
       "      <td>7.196279e+17</td>\n",
       "      <td>7.038708e+17</td>\n",
       "      <td>4.196984e+09</td>\n",
       "      <td>7.804657e+17</td>\n",
       "      <td>4.196984e+09</td>\n",
       "      <td>11.000000</td>\n",
       "      <td>10.000000</td>\n",
       "    </tr>\n",
       "    <tr>\n",
       "      <th>75%</th>\n",
       "      <td>7.993373e+17</td>\n",
       "      <td>8.257804e+17</td>\n",
       "      <td>4.196984e+09</td>\n",
       "      <td>8.203146e+17</td>\n",
       "      <td>4.196984e+09</td>\n",
       "      <td>12.000000</td>\n",
       "      <td>10.000000</td>\n",
       "    </tr>\n",
       "    <tr>\n",
       "      <th>max</th>\n",
       "      <td>8.924206e+17</td>\n",
       "      <td>8.862664e+17</td>\n",
       "      <td>8.405479e+17</td>\n",
       "      <td>8.874740e+17</td>\n",
       "      <td>7.874618e+17</td>\n",
       "      <td>1776.000000</td>\n",
       "      <td>170.000000</td>\n",
       "    </tr>\n",
       "  </tbody>\n",
       "</table>\n",
       "</div>"
      ],
      "text/plain": [
       "           tweet_id  in_reply_to_status_id  in_reply_to_user_id  \\\n",
       "count  2.356000e+03           7.800000e+01         7.800000e+01   \n",
       "mean   7.427716e+17           7.455079e+17         2.014171e+16   \n",
       "std    6.856705e+16           7.582492e+16         1.252797e+17   \n",
       "min    6.660209e+17           6.658147e+17         1.185634e+07   \n",
       "25%    6.783989e+17           6.757419e+17         3.086374e+08   \n",
       "50%    7.196279e+17           7.038708e+17         4.196984e+09   \n",
       "75%    7.993373e+17           8.257804e+17         4.196984e+09   \n",
       "max    8.924206e+17           8.862664e+17         8.405479e+17   \n",
       "\n",
       "       retweeted_status_id  retweeted_status_user_id  rating_numerator  \\\n",
       "count         1.810000e+02              1.810000e+02       2356.000000   \n",
       "mean          7.720400e+17              1.241698e+16         13.126486   \n",
       "std           6.236928e+16              9.599254e+16         45.876648   \n",
       "min           6.661041e+17              7.832140e+05          0.000000   \n",
       "25%           7.186315e+17              4.196984e+09         10.000000   \n",
       "50%           7.804657e+17              4.196984e+09         11.000000   \n",
       "75%           8.203146e+17              4.196984e+09         12.000000   \n",
       "max           8.874740e+17              7.874618e+17       1776.000000   \n",
       "\n",
       "       rating_denominator  \n",
       "count         2356.000000  \n",
       "mean            10.455433  \n",
       "std              6.745237  \n",
       "min              0.000000  \n",
       "25%             10.000000  \n",
       "50%             10.000000  \n",
       "75%             10.000000  \n",
       "max            170.000000  "
      ]
     },
     "execution_count": 9,
     "metadata": {},
     "output_type": "execute_result"
    }
   ],
   "source": [
    "archive.describe()\n",
    "#note: rating_numerator has values of 0 ... most of them are photos with no dogs\n",
    "#note: rating_denominator has values of 0.. it's a reply and will be dropped\n",
    "#note: rating_numerator has values of 1776 ... most of the high ones are group of dogs\n",
    "#note: rating_denominator has values of 170 ... most of the high ones are group of dogs\n",
    "#id= 666287406224695296 .. 9/10 not 1/2 .. name is an (wrong)\n",
    "#id= 678424312106393600.. is a dog\n",
    "#id= 667878741721415682.. is a dog\n",
    "#id= 810984652412424192.. 24/7 false rating.. no rating given"
   ]
  },
  {
   "cell_type": "code",
   "execution_count": 10,
   "metadata": {},
   "outputs": [
    {
     "data": {
      "text/html": [
       "<div>\n",
       "<style scoped>\n",
       "    .dataframe tbody tr th:only-of-type {\n",
       "        vertical-align: middle;\n",
       "    }\n",
       "\n",
       "    .dataframe tbody tr th {\n",
       "        vertical-align: top;\n",
       "    }\n",
       "\n",
       "    .dataframe thead th {\n",
       "        text-align: right;\n",
       "    }\n",
       "</style>\n",
       "<table border=\"1\" class=\"dataframe\">\n",
       "  <thead>\n",
       "    <tr style=\"text-align: right;\">\n",
       "      <th></th>\n",
       "      <th>tweet_id</th>\n",
       "      <th>in_reply_to_status_id</th>\n",
       "      <th>in_reply_to_user_id</th>\n",
       "      <th>timestamp</th>\n",
       "      <th>source</th>\n",
       "      <th>text</th>\n",
       "      <th>retweeted_status_id</th>\n",
       "      <th>retweeted_status_user_id</th>\n",
       "      <th>retweeted_status_timestamp</th>\n",
       "      <th>expanded_urls</th>\n",
       "      <th>rating_numerator</th>\n",
       "      <th>rating_denominator</th>\n",
       "      <th>name</th>\n",
       "      <th>doggo</th>\n",
       "      <th>floofer</th>\n",
       "      <th>pupper</th>\n",
       "      <th>puppo</th>\n",
       "    </tr>\n",
       "  </thead>\n",
       "  <tbody>\n",
       "    <tr>\n",
       "      <th>313</th>\n",
       "      <td>835246439529840640</td>\n",
       "      <td>8.352460e+17</td>\n",
       "      <td>26259576.0</td>\n",
       "      <td>2017-02-24 21:54:03 +0000</td>\n",
       "      <td>&lt;a href=\"http://twitter.com/download/iphone\" r...</td>\n",
       "      <td>@jonnysun @Lin_Manuel ok jomny I know you're e...</td>\n",
       "      <td>NaN</td>\n",
       "      <td>NaN</td>\n",
       "      <td>NaN</td>\n",
       "      <td>NaN</td>\n",
       "      <td>960</td>\n",
       "      <td>0</td>\n",
       "      <td>None</td>\n",
       "      <td>None</td>\n",
       "      <td>None</td>\n",
       "      <td>None</td>\n",
       "      <td>None</td>\n",
       "    </tr>\n",
       "    <tr>\n",
       "      <th>2335</th>\n",
       "      <td>666287406224695296</td>\n",
       "      <td>NaN</td>\n",
       "      <td>NaN</td>\n",
       "      <td>2015-11-16 16:11:11 +0000</td>\n",
       "      <td>&lt;a href=\"http://twitter.com/download/iphone\" r...</td>\n",
       "      <td>This is an Albanian 3 1/2 legged  Episcopalian...</td>\n",
       "      <td>NaN</td>\n",
       "      <td>NaN</td>\n",
       "      <td>NaN</td>\n",
       "      <td>https://twitter.com/dog_rates/status/666287406...</td>\n",
       "      <td>1</td>\n",
       "      <td>2</td>\n",
       "      <td>an</td>\n",
       "      <td>None</td>\n",
       "      <td>None</td>\n",
       "      <td>None</td>\n",
       "      <td>None</td>\n",
       "    </tr>\n",
       "    <tr>\n",
       "      <th>516</th>\n",
       "      <td>810984652412424192</td>\n",
       "      <td>NaN</td>\n",
       "      <td>NaN</td>\n",
       "      <td>2016-12-19 23:06:23 +0000</td>\n",
       "      <td>&lt;a href=\"http://twitter.com/download/iphone\" r...</td>\n",
       "      <td>Meet Sam. She smiles 24/7 &amp;amp; secretly aspir...</td>\n",
       "      <td>NaN</td>\n",
       "      <td>NaN</td>\n",
       "      <td>NaN</td>\n",
       "      <td>https://www.gofundme.com/sams-smile,https://tw...</td>\n",
       "      <td>24</td>\n",
       "      <td>7</td>\n",
       "      <td>Sam</td>\n",
       "      <td>None</td>\n",
       "      <td>None</td>\n",
       "      <td>None</td>\n",
       "      <td>None</td>\n",
       "    </tr>\n",
       "    <tr>\n",
       "      <th>1576</th>\n",
       "      <td>687460506001633280</td>\n",
       "      <td>NaN</td>\n",
       "      <td>NaN</td>\n",
       "      <td>2016-01-14 02:25:31 +0000</td>\n",
       "      <td>&lt;a href=\"http://twitter.com/download/iphone\" r...</td>\n",
       "      <td>This is Kramer. He's a Picasso Tortellini. Tie...</td>\n",
       "      <td>NaN</td>\n",
       "      <td>NaN</td>\n",
       "      <td>NaN</td>\n",
       "      <td>https://twitter.com/dog_rates/status/687460506...</td>\n",
       "      <td>10</td>\n",
       "      <td>10</td>\n",
       "      <td>Kramer</td>\n",
       "      <td>None</td>\n",
       "      <td>None</td>\n",
       "      <td>None</td>\n",
       "      <td>None</td>\n",
       "    </tr>\n",
       "    <tr>\n",
       "      <th>1575</th>\n",
       "      <td>687476254459715584</td>\n",
       "      <td>NaN</td>\n",
       "      <td>NaN</td>\n",
       "      <td>2016-01-14 03:28:06 +0000</td>\n",
       "      <td>&lt;a href=\"http://twitter.com/download/iphone\" r...</td>\n",
       "      <td>This is Curtis. He's a fluffball. 11/10 would ...</td>\n",
       "      <td>NaN</td>\n",
       "      <td>NaN</td>\n",
       "      <td>NaN</td>\n",
       "      <td>https://twitter.com/dog_rates/status/687476254...</td>\n",
       "      <td>11</td>\n",
       "      <td>10</td>\n",
       "      <td>Curtis</td>\n",
       "      <td>None</td>\n",
       "      <td>None</td>\n",
       "      <td>pupper</td>\n",
       "      <td>None</td>\n",
       "    </tr>\n",
       "    <tr>\n",
       "      <th>1574</th>\n",
       "      <td>687480748861947905</td>\n",
       "      <td>NaN</td>\n",
       "      <td>NaN</td>\n",
       "      <td>2016-01-14 03:45:57 +0000</td>\n",
       "      <td>&lt;a href=\"http://twitter.com/download/iphone\" r...</td>\n",
       "      <td>Another magnificent photo. 12/10 https://t.co/...</td>\n",
       "      <td>NaN</td>\n",
       "      <td>NaN</td>\n",
       "      <td>NaN</td>\n",
       "      <td>https://twitter.com/dog_rates/status/687480748...</td>\n",
       "      <td>12</td>\n",
       "      <td>10</td>\n",
       "      <td>None</td>\n",
       "      <td>None</td>\n",
       "      <td>None</td>\n",
       "      <td>None</td>\n",
       "      <td>None</td>\n",
       "    </tr>\n",
       "  </tbody>\n",
       "</table>\n",
       "</div>"
      ],
      "text/plain": [
       "                tweet_id  in_reply_to_status_id  in_reply_to_user_id  \\\n",
       "313   835246439529840640           8.352460e+17           26259576.0   \n",
       "2335  666287406224695296                    NaN                  NaN   \n",
       "516   810984652412424192                    NaN                  NaN   \n",
       "1576  687460506001633280                    NaN                  NaN   \n",
       "1575  687476254459715584                    NaN                  NaN   \n",
       "1574  687480748861947905                    NaN                  NaN   \n",
       "\n",
       "                      timestamp  \\\n",
       "313   2017-02-24 21:54:03 +0000   \n",
       "2335  2015-11-16 16:11:11 +0000   \n",
       "516   2016-12-19 23:06:23 +0000   \n",
       "1576  2016-01-14 02:25:31 +0000   \n",
       "1575  2016-01-14 03:28:06 +0000   \n",
       "1574  2016-01-14 03:45:57 +0000   \n",
       "\n",
       "                                                 source  \\\n",
       "313   <a href=\"http://twitter.com/download/iphone\" r...   \n",
       "2335  <a href=\"http://twitter.com/download/iphone\" r...   \n",
       "516   <a href=\"http://twitter.com/download/iphone\" r...   \n",
       "1576  <a href=\"http://twitter.com/download/iphone\" r...   \n",
       "1575  <a href=\"http://twitter.com/download/iphone\" r...   \n",
       "1574  <a href=\"http://twitter.com/download/iphone\" r...   \n",
       "\n",
       "                                                   text  retweeted_status_id  \\\n",
       "313   @jonnysun @Lin_Manuel ok jomny I know you're e...                  NaN   \n",
       "2335  This is an Albanian 3 1/2 legged  Episcopalian...                  NaN   \n",
       "516   Meet Sam. She smiles 24/7 &amp; secretly aspir...                  NaN   \n",
       "1576  This is Kramer. He's a Picasso Tortellini. Tie...                  NaN   \n",
       "1575  This is Curtis. He's a fluffball. 11/10 would ...                  NaN   \n",
       "1574  Another magnificent photo. 12/10 https://t.co/...                  NaN   \n",
       "\n",
       "      retweeted_status_user_id retweeted_status_timestamp  \\\n",
       "313                        NaN                        NaN   \n",
       "2335                       NaN                        NaN   \n",
       "516                        NaN                        NaN   \n",
       "1576                       NaN                        NaN   \n",
       "1575                       NaN                        NaN   \n",
       "1574                       NaN                        NaN   \n",
       "\n",
       "                                          expanded_urls  rating_numerator  \\\n",
       "313                                                 NaN               960   \n",
       "2335  https://twitter.com/dog_rates/status/666287406...                 1   \n",
       "516   https://www.gofundme.com/sams-smile,https://tw...                24   \n",
       "1576  https://twitter.com/dog_rates/status/687460506...                10   \n",
       "1575  https://twitter.com/dog_rates/status/687476254...                11   \n",
       "1574  https://twitter.com/dog_rates/status/687480748...                12   \n",
       "\n",
       "      rating_denominator    name doggo floofer  pupper puppo  \n",
       "313                    0    None  None    None    None  None  \n",
       "2335                   2      an  None    None    None  None  \n",
       "516                    7     Sam  None    None    None  None  \n",
       "1576                  10  Kramer  None    None    None  None  \n",
       "1575                  10  Curtis  None    None  pupper  None  \n",
       "1574                  10    None  None    None    None  None  "
      ]
     },
     "execution_count": 10,
     "metadata": {},
     "output_type": "execute_result"
    }
   ],
   "source": [
    "archive.sort_values('rating_denominator', ascending= True).iloc[[0,1,2,3,4,5], :]#['expanded_urls'].tolist()"
   ]
  },
  {
   "cell_type": "code",
   "execution_count": 11,
   "metadata": {},
   "outputs": [
    {
     "data": {
      "text/plain": [
       "None      2099\n",
       "pupper     257\n",
       "Name: pupper, dtype: int64"
      ]
     },
     "execution_count": 11,
     "metadata": {},
     "output_type": "execute_result"
    }
   ],
   "source": [
    "archive['pupper'].value_counts()\n",
    "#columns= ['source','text','expanded_urls','rating_numerator','rating_denominator','name','doggo','floofer','pupper','puppo']\n",
    "\n",
    "#note: almost all denominators are 10\n",
    "#note: pupper is the most common type\n",
    "#note: most used 'source' is \"http://twitter.com/download/iphone\" \n",
    "\n",
    "#some expanded_urls are presented twice ... need to delete some of them .. but make sure to drop not liked ones"
   ]
  },
  {
   "cell_type": "markdown",
   "metadata": {},
   "source": [
    "### assesing img_predictions"
   ]
  },
  {
   "cell_type": "code",
   "execution_count": 13,
   "metadata": {},
   "outputs": [
    {
     "data": {
      "text/html": [
       "<div>\n",
       "<style scoped>\n",
       "    .dataframe tbody tr th:only-of-type {\n",
       "        vertical-align: middle;\n",
       "    }\n",
       "\n",
       "    .dataframe tbody tr th {\n",
       "        vertical-align: top;\n",
       "    }\n",
       "\n",
       "    .dataframe thead th {\n",
       "        text-align: right;\n",
       "    }\n",
       "</style>\n",
       "<table border=\"1\" class=\"dataframe\">\n",
       "  <thead>\n",
       "    <tr style=\"text-align: right;\">\n",
       "      <th></th>\n",
       "      <th>tweet_id</th>\n",
       "      <th>jpg_url</th>\n",
       "      <th>img_num</th>\n",
       "      <th>p1</th>\n",
       "      <th>p1_conf</th>\n",
       "      <th>p1_dog</th>\n",
       "      <th>p2</th>\n",
       "      <th>p2_conf</th>\n",
       "      <th>p2_dog</th>\n",
       "      <th>p3</th>\n",
       "      <th>p3_conf</th>\n",
       "      <th>p3_dog</th>\n",
       "    </tr>\n",
       "  </thead>\n",
       "  <tbody>\n",
       "    <tr>\n",
       "      <th>1321</th>\n",
       "      <td>756303284449767430</td>\n",
       "      <td>https://pbs.twimg.com/media/Cn7tyyZWYAAPlAY.jpg</td>\n",
       "      <td>1</td>\n",
       "      <td>golden_retriever</td>\n",
       "      <td>0.981652</td>\n",
       "      <td>True</td>\n",
       "      <td>cocker_spaniel</td>\n",
       "      <td>0.006790</td>\n",
       "      <td>True</td>\n",
       "      <td>Labrador_retriever</td>\n",
       "      <td>0.004325</td>\n",
       "      <td>True</td>\n",
       "    </tr>\n",
       "    <tr>\n",
       "      <th>1401</th>\n",
       "      <td>768855141948723200</td>\n",
       "      <td>https://pbs.twimg.com/media/CquFrCKWAAAr32m.jpg</td>\n",
       "      <td>1</td>\n",
       "      <td>chow</td>\n",
       "      <td>0.720219</td>\n",
       "      <td>True</td>\n",
       "      <td>Brabancon_griffon</td>\n",
       "      <td>0.058365</td>\n",
       "      <td>True</td>\n",
       "      <td>Rottweiler</td>\n",
       "      <td>0.055114</td>\n",
       "      <td>True</td>\n",
       "    </tr>\n",
       "    <tr>\n",
       "      <th>2036</th>\n",
       "      <td>884441805382717440</td>\n",
       "      <td>https://pbs.twimg.com/media/DEYrIZwWsAA2Wo5.jpg</td>\n",
       "      <td>1</td>\n",
       "      <td>Pembroke</td>\n",
       "      <td>0.993225</td>\n",
       "      <td>True</td>\n",
       "      <td>Cardigan</td>\n",
       "      <td>0.003216</td>\n",
       "      <td>True</td>\n",
       "      <td>Chihuahua</td>\n",
       "      <td>0.002081</td>\n",
       "      <td>True</td>\n",
       "    </tr>\n",
       "    <tr>\n",
       "      <th>1800</th>\n",
       "      <td>831911600680497154</td>\n",
       "      <td>https://pbs.twimg.com/media/C4uLLGuUoAAkIHm.jpg</td>\n",
       "      <td>4</td>\n",
       "      <td>bloodhound</td>\n",
       "      <td>0.777562</td>\n",
       "      <td>True</td>\n",
       "      <td>Great_Dane</td>\n",
       "      <td>0.047418</td>\n",
       "      <td>True</td>\n",
       "      <td>Leonberg</td>\n",
       "      <td>0.017943</td>\n",
       "      <td>True</td>\n",
       "    </tr>\n",
       "    <tr>\n",
       "      <th>1889</th>\n",
       "      <td>848324959059550208</td>\n",
       "      <td>https://pbs.twimg.com/media/C8XbDR1WAAAxND8.jpg</td>\n",
       "      <td>1</td>\n",
       "      <td>malamute</td>\n",
       "      <td>0.544576</td>\n",
       "      <td>True</td>\n",
       "      <td>Siberian_husky</td>\n",
       "      <td>0.290268</td>\n",
       "      <td>True</td>\n",
       "      <td>Eskimo_dog</td>\n",
       "      <td>0.154421</td>\n",
       "      <td>True</td>\n",
       "    </tr>\n",
       "  </tbody>\n",
       "</table>\n",
       "</div>"
      ],
      "text/plain": [
       "                tweet_id                                          jpg_url  \\\n",
       "1321  756303284449767430  https://pbs.twimg.com/media/Cn7tyyZWYAAPlAY.jpg   \n",
       "1401  768855141948723200  https://pbs.twimg.com/media/CquFrCKWAAAr32m.jpg   \n",
       "2036  884441805382717440  https://pbs.twimg.com/media/DEYrIZwWsAA2Wo5.jpg   \n",
       "1800  831911600680497154  https://pbs.twimg.com/media/C4uLLGuUoAAkIHm.jpg   \n",
       "1889  848324959059550208  https://pbs.twimg.com/media/C8XbDR1WAAAxND8.jpg   \n",
       "\n",
       "      img_num                p1   p1_conf  p1_dog                 p2  \\\n",
       "1321        1  golden_retriever  0.981652    True     cocker_spaniel   \n",
       "1401        1              chow  0.720219    True  Brabancon_griffon   \n",
       "2036        1          Pembroke  0.993225    True           Cardigan   \n",
       "1800        4        bloodhound  0.777562    True         Great_Dane   \n",
       "1889        1          malamute  0.544576    True     Siberian_husky   \n",
       "\n",
       "       p2_conf  p2_dog                  p3   p3_conf  p3_dog  \n",
       "1321  0.006790    True  Labrador_retriever  0.004325    True  \n",
       "1401  0.058365    True          Rottweiler  0.055114    True  \n",
       "2036  0.003216    True           Chihuahua  0.002081    True  \n",
       "1800  0.047418    True            Leonberg  0.017943    True  \n",
       "1889  0.290268    True          Eskimo_dog  0.154421    True  "
      ]
     },
     "execution_count": 13,
     "metadata": {},
     "output_type": "execute_result"
    }
   ],
   "source": [
    "img_predictions.sample(5)\n",
    "#(p1- p1_conf- p1_dog) names are cofusing.. change to (predicted_breed_1- p1_confidance- p1_is_a_dog)\n",
    "# p1_dog... says False when it's not a dog name.. as it was predicted wrong"
   ]
  },
  {
   "cell_type": "code",
   "execution_count": 14,
   "metadata": {},
   "outputs": [
    {
     "name": "stdout",
     "output_type": "stream",
     "text": [
      "<class 'pandas.core.frame.DataFrame'>\n",
      "RangeIndex: 2075 entries, 0 to 2074\n",
      "Data columns (total 12 columns):\n",
      "tweet_id    2075 non-null int64\n",
      "jpg_url     2075 non-null object\n",
      "img_num     2075 non-null int64\n",
      "p1          2075 non-null object\n",
      "p1_conf     2075 non-null float64\n",
      "p1_dog      2075 non-null bool\n",
      "p2          2075 non-null object\n",
      "p2_conf     2075 non-null float64\n",
      "p2_dog      2075 non-null bool\n",
      "p3          2075 non-null object\n",
      "p3_conf     2075 non-null float64\n",
      "p3_dog      2075 non-null bool\n",
      "dtypes: bool(3), float64(3), int64(2), object(4)\n",
      "memory usage: 152.1+ KB\n"
     ]
    }
   ],
   "source": [
    "img_predictions.info()\n",
    "##note: no NULLs\n",
    "#tweet_id & img_num are int.. change to object"
   ]
  },
  {
   "cell_type": "code",
   "execution_count": 15,
   "metadata": {},
   "outputs": [
    {
     "data": {
      "text/html": [
       "<div>\n",
       "<style scoped>\n",
       "    .dataframe tbody tr th:only-of-type {\n",
       "        vertical-align: middle;\n",
       "    }\n",
       "\n",
       "    .dataframe tbody tr th {\n",
       "        vertical-align: top;\n",
       "    }\n",
       "\n",
       "    .dataframe thead th {\n",
       "        text-align: right;\n",
       "    }\n",
       "</style>\n",
       "<table border=\"1\" class=\"dataframe\">\n",
       "  <thead>\n",
       "    <tr style=\"text-align: right;\">\n",
       "      <th></th>\n",
       "      <th>tweet_id</th>\n",
       "      <th>img_num</th>\n",
       "      <th>p1_conf</th>\n",
       "      <th>p2_conf</th>\n",
       "      <th>p3_conf</th>\n",
       "    </tr>\n",
       "  </thead>\n",
       "  <tbody>\n",
       "    <tr>\n",
       "      <th>count</th>\n",
       "      <td>2.075000e+03</td>\n",
       "      <td>2075.000000</td>\n",
       "      <td>2075.000000</td>\n",
       "      <td>2.075000e+03</td>\n",
       "      <td>2.075000e+03</td>\n",
       "    </tr>\n",
       "    <tr>\n",
       "      <th>mean</th>\n",
       "      <td>7.384514e+17</td>\n",
       "      <td>1.203855</td>\n",
       "      <td>0.594548</td>\n",
       "      <td>1.345886e-01</td>\n",
       "      <td>6.032417e-02</td>\n",
       "    </tr>\n",
       "    <tr>\n",
       "      <th>std</th>\n",
       "      <td>6.785203e+16</td>\n",
       "      <td>0.561875</td>\n",
       "      <td>0.271174</td>\n",
       "      <td>1.006657e-01</td>\n",
       "      <td>5.090593e-02</td>\n",
       "    </tr>\n",
       "    <tr>\n",
       "      <th>min</th>\n",
       "      <td>6.660209e+17</td>\n",
       "      <td>1.000000</td>\n",
       "      <td>0.044333</td>\n",
       "      <td>1.011300e-08</td>\n",
       "      <td>1.740170e-10</td>\n",
       "    </tr>\n",
       "    <tr>\n",
       "      <th>25%</th>\n",
       "      <td>6.764835e+17</td>\n",
       "      <td>1.000000</td>\n",
       "      <td>0.364412</td>\n",
       "      <td>5.388625e-02</td>\n",
       "      <td>1.622240e-02</td>\n",
       "    </tr>\n",
       "    <tr>\n",
       "      <th>50%</th>\n",
       "      <td>7.119988e+17</td>\n",
       "      <td>1.000000</td>\n",
       "      <td>0.588230</td>\n",
       "      <td>1.181810e-01</td>\n",
       "      <td>4.944380e-02</td>\n",
       "    </tr>\n",
       "    <tr>\n",
       "      <th>75%</th>\n",
       "      <td>7.932034e+17</td>\n",
       "      <td>1.000000</td>\n",
       "      <td>0.843855</td>\n",
       "      <td>1.955655e-01</td>\n",
       "      <td>9.180755e-02</td>\n",
       "    </tr>\n",
       "    <tr>\n",
       "      <th>max</th>\n",
       "      <td>8.924206e+17</td>\n",
       "      <td>4.000000</td>\n",
       "      <td>1.000000</td>\n",
       "      <td>4.880140e-01</td>\n",
       "      <td>2.734190e-01</td>\n",
       "    </tr>\n",
       "  </tbody>\n",
       "</table>\n",
       "</div>"
      ],
      "text/plain": [
       "           tweet_id      img_num      p1_conf       p2_conf       p3_conf\n",
       "count  2.075000e+03  2075.000000  2075.000000  2.075000e+03  2.075000e+03\n",
       "mean   7.384514e+17     1.203855     0.594548  1.345886e-01  6.032417e-02\n",
       "std    6.785203e+16     0.561875     0.271174  1.006657e-01  5.090593e-02\n",
       "min    6.660209e+17     1.000000     0.044333  1.011300e-08  1.740170e-10\n",
       "25%    6.764835e+17     1.000000     0.364412  5.388625e-02  1.622240e-02\n",
       "50%    7.119988e+17     1.000000     0.588230  1.181810e-01  4.944380e-02\n",
       "75%    7.932034e+17     1.000000     0.843855  1.955655e-01  9.180755e-02\n",
       "max    8.924206e+17     4.000000     1.000000  4.880140e-01  2.734190e-01"
      ]
     },
     "execution_count": 15,
     "metadata": {},
     "output_type": "execute_result"
    }
   ],
   "source": [
    "img_predictions.describe()\n",
    "#note: first predictions 'p1's .. has higher confidence rates"
   ]
  },
  {
   "cell_type": "code",
   "execution_count": 16,
   "metadata": {},
   "outputs": [
    {
     "data": {
      "text/plain": [
       "True     1532\n",
       "False     543\n",
       "Name: p1_dog, dtype: int64"
      ]
     },
     "execution_count": 16,
     "metadata": {},
     "output_type": "execute_result"
    }
   ],
   "source": [
    "img_predictions['p1_dog'].value_counts()\n",
    "#columns['jpg_url', 'img_num', 'p1', 'p1_conf', 'p1_dog', 'p2', 'p2_conf', 'p2_dog', 'p3', 'p3_conf', 'p3_dog']\n",
    "\n",
    "#some jpg_url are present twice, with 2 different ids (all other variables are identical)\n",
    "#   need to drop one.. but make sure to delete the unlinked one\n",
    "\n",
    "# img_predictions[img_predictions['jpg_url']== 'https://pbs.twimg.com/media/CsrjryzWgAAZY00.jpg']"
   ]
  },
  {
   "cell_type": "markdown",
   "metadata": {},
   "source": [
    "### assesing api_df"
   ]
  },
  {
   "cell_type": "code",
   "execution_count": 17,
   "metadata": {},
   "outputs": [
    {
     "data": {
      "text/html": [
       "<div>\n",
       "<style scoped>\n",
       "    .dataframe tbody tr th:only-of-type {\n",
       "        vertical-align: middle;\n",
       "    }\n",
       "\n",
       "    .dataframe tbody tr th {\n",
       "        vertical-align: top;\n",
       "    }\n",
       "\n",
       "    .dataframe thead th {\n",
       "        text-align: right;\n",
       "    }\n",
       "</style>\n",
       "<table border=\"1\" class=\"dataframe\">\n",
       "  <thead>\n",
       "    <tr style=\"text-align: right;\">\n",
       "      <th></th>\n",
       "      <th>favorite_count</th>\n",
       "      <th>retweet_count</th>\n",
       "      <th>tweet_id</th>\n",
       "    </tr>\n",
       "  </thead>\n",
       "  <tbody>\n",
       "    <tr>\n",
       "      <th>2141</th>\n",
       "      <td>343</td>\n",
       "      <td>110</td>\n",
       "      <td>669359674819481600</td>\n",
       "    </tr>\n",
       "    <tr>\n",
       "      <th>1563</th>\n",
       "      <td>3341</td>\n",
       "      <td>1378</td>\n",
       "      <td>686749460672679938</td>\n",
       "    </tr>\n",
       "    <tr>\n",
       "      <th>1391</th>\n",
       "      <td>1389</td>\n",
       "      <td>354</td>\n",
       "      <td>698703483621523456</td>\n",
       "    </tr>\n",
       "    <tr>\n",
       "      <th>950</th>\n",
       "      <td>3058</td>\n",
       "      <td>862</td>\n",
       "      <td>750056684286914561</td>\n",
       "    </tr>\n",
       "    <tr>\n",
       "      <th>569</th>\n",
       "      <td>8250</td>\n",
       "      <td>2105</td>\n",
       "      <td>799757965289017345</td>\n",
       "    </tr>\n",
       "  </tbody>\n",
       "</table>\n",
       "</div>"
      ],
      "text/plain": [
       "      favorite_count  retweet_count            tweet_id\n",
       "2141             343            110  669359674819481600\n",
       "1563            3341           1378  686749460672679938\n",
       "1391            1389            354  698703483621523456\n",
       "950             3058            862  750056684286914561\n",
       "569             8250           2105  799757965289017345"
      ]
     },
     "execution_count": 17,
     "metadata": {},
     "output_type": "execute_result"
    }
   ],
   "source": [
    "api_df.sample(5)\n",
    "#favorite_count.. has zeros are not represented as nulls (163 zeros) (they were misspoted ..they have values in twitter)"
   ]
  },
  {
   "cell_type": "code",
   "execution_count": 18,
   "metadata": {},
   "outputs": [
    {
     "name": "stdout",
     "output_type": "stream",
     "text": [
      "<class 'pandas.core.frame.DataFrame'>\n",
      "RangeIndex: 2330 entries, 0 to 2329\n",
      "Data columns (total 3 columns):\n",
      "favorite_count    2330 non-null int64\n",
      "retweet_count     2330 non-null int64\n",
      "tweet_id          2330 non-null int64\n",
      "dtypes: int64(3)\n",
      "memory usage: 54.7 KB\n"
     ]
    }
   ],
   "source": [
    "api_df.info()"
   ]
  },
  {
   "cell_type": "code",
   "execution_count": 19,
   "metadata": {},
   "outputs": [
    {
     "data": {
      "text/html": [
       "<div>\n",
       "<style scoped>\n",
       "    .dataframe tbody tr th:only-of-type {\n",
       "        vertical-align: middle;\n",
       "    }\n",
       "\n",
       "    .dataframe tbody tr th {\n",
       "        vertical-align: top;\n",
       "    }\n",
       "\n",
       "    .dataframe thead th {\n",
       "        text-align: right;\n",
       "    }\n",
       "</style>\n",
       "<table border=\"1\" class=\"dataframe\">\n",
       "  <thead>\n",
       "    <tr style=\"text-align: right;\">\n",
       "      <th></th>\n",
       "      <th>favorite_count</th>\n",
       "      <th>retweet_count</th>\n",
       "      <th>tweet_id</th>\n",
       "    </tr>\n",
       "  </thead>\n",
       "  <tbody>\n",
       "    <tr>\n",
       "      <th>count</th>\n",
       "      <td>2330.000000</td>\n",
       "      <td>2330.000000</td>\n",
       "      <td>2.330000e+03</td>\n",
       "    </tr>\n",
       "    <tr>\n",
       "      <th>mean</th>\n",
       "      <td>7291.993562</td>\n",
       "      <td>2578.941202</td>\n",
       "      <td>7.419320e+17</td>\n",
       "    </tr>\n",
       "    <tr>\n",
       "      <th>std</th>\n",
       "      <td>11326.595169</td>\n",
       "      <td>4361.995069</td>\n",
       "      <td>6.823639e+16</td>\n",
       "    </tr>\n",
       "    <tr>\n",
       "      <th>min</th>\n",
       "      <td>0.000000</td>\n",
       "      <td>1.000000</td>\n",
       "      <td>6.660209e+17</td>\n",
       "    </tr>\n",
       "    <tr>\n",
       "      <th>25%</th>\n",
       "      <td>1260.500000</td>\n",
       "      <td>523.500000</td>\n",
       "      <td>6.782612e+17</td>\n",
       "    </tr>\n",
       "    <tr>\n",
       "      <th>50%</th>\n",
       "      <td>3159.000000</td>\n",
       "      <td>1202.000000</td>\n",
       "      <td>7.183508e+17</td>\n",
       "    </tr>\n",
       "    <tr>\n",
       "      <th>75%</th>\n",
       "      <td>8913.750000</td>\n",
       "      <td>2986.750000</td>\n",
       "      <td>7.986712e+17</td>\n",
       "    </tr>\n",
       "    <tr>\n",
       "      <th>max</th>\n",
       "      <td>149992.000000</td>\n",
       "      <td>73988.000000</td>\n",
       "      <td>8.924206e+17</td>\n",
       "    </tr>\n",
       "  </tbody>\n",
       "</table>\n",
       "</div>"
      ],
      "text/plain": [
       "       favorite_count  retweet_count      tweet_id\n",
       "count     2330.000000    2330.000000  2.330000e+03\n",
       "mean      7291.993562    2578.941202  7.419320e+17\n",
       "std      11326.595169    4361.995069  6.823639e+16\n",
       "min          0.000000       1.000000  6.660209e+17\n",
       "25%       1260.500000     523.500000  6.782612e+17\n",
       "50%       3159.000000    1202.000000  7.183508e+17\n",
       "75%       8913.750000    2986.750000  7.986712e+17\n",
       "max     149992.000000   73988.000000  8.924206e+17"
      ]
     },
     "execution_count": 19,
     "metadata": {},
     "output_type": "execute_result"
    }
   ],
   "source": [
    "api_df.describe()"
   ]
  },
  {
   "cell_type": "code",
   "execution_count": 20,
   "metadata": {
    "scrolled": true
   },
   "outputs": [
    {
     "data": {
      "text/plain": [
       "0       163\n",
       "1515      3\n",
       "735       3\n",
       "671       3\n",
       "2989      3\n",
       "110       3\n",
       "2576      3\n",
       "3613      3\n",
       "2338      3\n",
       "287       3\n",
       "Name: favorite_count, dtype: int64"
      ]
     },
     "execution_count": 20,
     "metadata": {},
     "output_type": "execute_result"
    }
   ],
   "source": [
    "api_df['favorite_count'].value_counts().head(10)\n",
    "#favorite_count.. has zeros are not represented as nulls (163 zeros) (they were misspoted ..they have values in twitter)"
   ]
  },
  {
   "cell_type": "code",
   "execution_count": 21,
   "metadata": {
    "scrolled": true
   },
   "outputs": [
    {
     "data": {
      "text/html": [
       "<div>\n",
       "<style scoped>\n",
       "    .dataframe tbody tr th:only-of-type {\n",
       "        vertical-align: middle;\n",
       "    }\n",
       "\n",
       "    .dataframe tbody tr th {\n",
       "        vertical-align: top;\n",
       "    }\n",
       "\n",
       "    .dataframe thead th {\n",
       "        text-align: right;\n",
       "    }\n",
       "</style>\n",
       "<table border=\"1\" class=\"dataframe\">\n",
       "  <thead>\n",
       "    <tr style=\"text-align: right;\">\n",
       "      <th></th>\n",
       "      <th>favorite_count</th>\n",
       "      <th>retweet_count</th>\n",
       "      <th>tweet_id</th>\n",
       "    </tr>\n",
       "  </thead>\n",
       "  <tbody>\n",
       "    <tr>\n",
       "      <th>count</th>\n",
       "      <td>163.0</td>\n",
       "      <td>163.000000</td>\n",
       "      <td>1.630000e+02</td>\n",
       "    </tr>\n",
       "    <tr>\n",
       "      <th>mean</th>\n",
       "      <td>0.0</td>\n",
       "      <td>5822.828221</td>\n",
       "      <td>8.082648e+17</td>\n",
       "    </tr>\n",
       "    <tr>\n",
       "      <th>std</th>\n",
       "      <td>0.0</td>\n",
       "      <td>5604.744537</td>\n",
       "      <td>3.753091e+16</td>\n",
       "    </tr>\n",
       "    <tr>\n",
       "      <th>min</th>\n",
       "      <td>0.0</td>\n",
       "      <td>19.000000</td>\n",
       "      <td>6.675509e+17</td>\n",
       "    </tr>\n",
       "    <tr>\n",
       "      <th>25%</th>\n",
       "      <td>0.0</td>\n",
       "      <td>2263.500000</td>\n",
       "      <td>7.869210e+17</td>\n",
       "    </tr>\n",
       "    <tr>\n",
       "      <th>50%</th>\n",
       "      <td>0.0</td>\n",
       "      <td>4780.000000</td>\n",
       "      <td>8.044138e+17</td>\n",
       "    </tr>\n",
       "    <tr>\n",
       "      <th>75%</th>\n",
       "      <td>0.0</td>\n",
       "      <td>7322.000000</td>\n",
       "      <td>8.332508e+17</td>\n",
       "    </tr>\n",
       "    <tr>\n",
       "      <th>max</th>\n",
       "      <td>0.0</td>\n",
       "      <td>35939.000000</td>\n",
       "      <td>8.860542e+17</td>\n",
       "    </tr>\n",
       "  </tbody>\n",
       "</table>\n",
       "</div>"
      ],
      "text/plain": [
       "       favorite_count  retweet_count      tweet_id\n",
       "count           163.0     163.000000  1.630000e+02\n",
       "mean              0.0    5822.828221  8.082648e+17\n",
       "std               0.0    5604.744537  3.753091e+16\n",
       "min               0.0      19.000000  6.675509e+17\n",
       "25%               0.0    2263.500000  7.869210e+17\n",
       "50%               0.0    4780.000000  8.044138e+17\n",
       "75%               0.0    7322.000000  8.332508e+17\n",
       "max               0.0   35939.000000  8.860542e+17"
      ]
     },
     "execution_count": 21,
     "metadata": {},
     "output_type": "execute_result"
    }
   ],
   "source": [
    "api_df[api_df['favorite_count']== 0].describe()"
   ]
  },
  {
   "cell_type": "markdown",
   "metadata": {},
   "source": [
    "## Tidiness issues\n",
    "    1- merge all 3 table into one master table that contains observations of tweets\n",
    "    2- types of [doggo-floofer-pupper-puppo].. melt into one column "
   ]
  },
  {
   "cell_type": "markdown",
   "metadata": {},
   "source": [
    "## Quality issues\n",
    "#### from archive\n",
    "    1- tweet_id is int.. turn to string\n",
    "    2- timestamp is object .. turn to datatime \n",
    "    3- name .. some has 'None' - 'a' - 'an' - 'the' ... and the count counts the \"None\"s as values\n",
    "    4- 'doggo', 'floofer', 'pupper', 'puppo'... has \"None\" but not considered as Nulls\n",
    "    5- in_reply_to_status_id= 78 ... delete all replies\n",
    "    6- retweeted_status_id= 181 .. delete all retweets\n",
    "    7- expanded_urls .. some are missing= 2356-2297= 59 (these are tweets with no photos.. so drop them)\n",
    "    8- id= 666287406224695296 .. 9/10 not 1/2\n",
    "    9- some expanded_urls are presented twice ... need to delete some of them .. but make sure to drop not liked ones\n",
    "    10- new column containg dogs_type[doggo-....] .. make it category type\n",
    "    11- source.. has only 3 different values.. change to category type\n",
    "#### from img_predictions\n",
    "    12- #(p1- p1_conf- p1_dog) names are cofusing.. change to (predicted_breed_1- p1_confidance- p1_is_a_dog)\n",
    "    13- tweet_id & img_num are int.. change to category type\n",
    "    14- some jpg_url are presented twice ... need to delete some of them .. but make sure to drop not liked ones\n",
    "#### from api_df\n",
    "    15- favorite_count.. has (163 zeros) & not represented as nulls (these tweets have favorite_count values in twitter)"
   ]
  },
  {
   "cell_type": "markdown",
   "metadata": {},
   "source": [
    "# (3) Cleaning data"
   ]
  },
  {
   "cell_type": "markdown",
   "metadata": {},
   "source": [
    "### Tidiness issue (2)"
   ]
  },
  {
   "cell_type": "code",
   "execution_count": 22,
   "metadata": {},
   "outputs": [],
   "source": [
    "#copies of the data.. to avoid spoiling orginal data\n",
    "archive_clean = archive.copy()\n",
    "img_predictions_clean = img_predictions.copy()\n",
    "api_clean = api_df.copy() "
   ]
  },
  {
   "cell_type": "code",
   "execution_count": 23,
   "metadata": {},
   "outputs": [
    {
     "data": {
      "text/html": [
       "<div>\n",
       "<style scoped>\n",
       "    .dataframe tbody tr th:only-of-type {\n",
       "        vertical-align: middle;\n",
       "    }\n",
       "\n",
       "    .dataframe tbody tr th {\n",
       "        vertical-align: top;\n",
       "    }\n",
       "\n",
       "    .dataframe thead th {\n",
       "        text-align: right;\n",
       "    }\n",
       "</style>\n",
       "<table border=\"1\" class=\"dataframe\">\n",
       "  <thead>\n",
       "    <tr style=\"text-align: right;\">\n",
       "      <th></th>\n",
       "      <th>tweet_id</th>\n",
       "      <th>in_reply_to_status_id</th>\n",
       "      <th>in_reply_to_user_id</th>\n",
       "      <th>timestamp</th>\n",
       "      <th>source</th>\n",
       "      <th>text</th>\n",
       "      <th>retweeted_status_id</th>\n",
       "      <th>retweeted_status_user_id</th>\n",
       "      <th>retweeted_status_timestamp</th>\n",
       "      <th>expanded_urls</th>\n",
       "      <th>rating_numerator</th>\n",
       "      <th>rating_denominator</th>\n",
       "      <th>name</th>\n",
       "      <th>doggo</th>\n",
       "      <th>floofer</th>\n",
       "      <th>pupper</th>\n",
       "      <th>puppo</th>\n",
       "    </tr>\n",
       "  </thead>\n",
       "  <tbody>\n",
       "    <tr>\n",
       "      <th>1569</th>\n",
       "      <td>687807801670897665</td>\n",
       "      <td>NaN</td>\n",
       "      <td>NaN</td>\n",
       "      <td>2016-01-15 01:25:33 +0000</td>\n",
       "      <td>&lt;a href=\"http://twitter.com/download/iphone\" r...</td>\n",
       "      <td>Meet Trooper &amp;amp; Maya. Trooper protects Maya...</td>\n",
       "      <td>NaN</td>\n",
       "      <td>NaN</td>\n",
       "      <td>NaN</td>\n",
       "      <td>https://twitter.com/dog_rates/status/687807801...</td>\n",
       "      <td>11</td>\n",
       "      <td>10</td>\n",
       "      <td>Trooper</td>\n",
       "      <td>None</td>\n",
       "      <td>None</td>\n",
       "      <td>None</td>\n",
       "      <td>None</td>\n",
       "    </tr>\n",
       "  </tbody>\n",
       "</table>\n",
       "</div>"
      ],
      "text/plain": [
       "                tweet_id  in_reply_to_status_id  in_reply_to_user_id  \\\n",
       "1569  687807801670897665                    NaN                  NaN   \n",
       "\n",
       "                      timestamp  \\\n",
       "1569  2016-01-15 01:25:33 +0000   \n",
       "\n",
       "                                                 source  \\\n",
       "1569  <a href=\"http://twitter.com/download/iphone\" r...   \n",
       "\n",
       "                                                   text  retweeted_status_id  \\\n",
       "1569  Meet Trooper &amp; Maya. Trooper protects Maya...                  NaN   \n",
       "\n",
       "      retweeted_status_user_id retweeted_status_timestamp  \\\n",
       "1569                       NaN                        NaN   \n",
       "\n",
       "                                          expanded_urls  rating_numerator  \\\n",
       "1569  https://twitter.com/dog_rates/status/687807801...                11   \n",
       "\n",
       "      rating_denominator     name doggo floofer pupper puppo  \n",
       "1569                  10  Trooper  None    None   None  None  "
      ]
     },
     "execution_count": 23,
     "metadata": {},
     "output_type": "execute_result"
    }
   ],
   "source": [
    "archive_clean.sample()"
   ]
  },
  {
   "cell_type": "code",
   "execution_count": 24,
   "metadata": {},
   "outputs": [
    {
     "data": {
      "text/html": [
       "<div>\n",
       "<style scoped>\n",
       "    .dataframe tbody tr th:only-of-type {\n",
       "        vertical-align: middle;\n",
       "    }\n",
       "\n",
       "    .dataframe tbody tr th {\n",
       "        vertical-align: top;\n",
       "    }\n",
       "\n",
       "    .dataframe thead th {\n",
       "        text-align: right;\n",
       "    }\n",
       "</style>\n",
       "<table border=\"1\" class=\"dataframe\">\n",
       "  <thead>\n",
       "    <tr style=\"text-align: right;\">\n",
       "      <th></th>\n",
       "      <th>doggo</th>\n",
       "      <th>floofer</th>\n",
       "      <th>pupper</th>\n",
       "      <th>puppo</th>\n",
       "    </tr>\n",
       "  </thead>\n",
       "  <tbody>\n",
       "    <tr>\n",
       "      <th>460</th>\n",
       "      <td>doggo</td>\n",
       "      <td>None</td>\n",
       "      <td>pupper</td>\n",
       "      <td>None</td>\n",
       "    </tr>\n",
       "    <tr>\n",
       "      <th>531</th>\n",
       "      <td>doggo</td>\n",
       "      <td>None</td>\n",
       "      <td>pupper</td>\n",
       "      <td>None</td>\n",
       "    </tr>\n",
       "    <tr>\n",
       "      <th>565</th>\n",
       "      <td>doggo</td>\n",
       "      <td>None</td>\n",
       "      <td>pupper</td>\n",
       "      <td>None</td>\n",
       "    </tr>\n",
       "    <tr>\n",
       "      <th>575</th>\n",
       "      <td>doggo</td>\n",
       "      <td>None</td>\n",
       "      <td>pupper</td>\n",
       "      <td>None</td>\n",
       "    </tr>\n",
       "    <tr>\n",
       "      <th>705</th>\n",
       "      <td>doggo</td>\n",
       "      <td>None</td>\n",
       "      <td>pupper</td>\n",
       "      <td>None</td>\n",
       "    </tr>\n",
       "  </tbody>\n",
       "</table>\n",
       "</div>"
      ],
      "text/plain": [
       "     doggo floofer  pupper puppo\n",
       "460  doggo    None  pupper  None\n",
       "531  doggo    None  pupper  None\n",
       "565  doggo    None  pupper  None\n",
       "575  doggo    None  pupper  None\n",
       "705  doggo    None  pupper  None"
      ]
     },
     "execution_count": 24,
     "metadata": {},
     "output_type": "execute_result"
    }
   ],
   "source": [
    "#Tidiness (2) types of [doggo-floofer-pupper-puppo].. melt into one column \n",
    "\n",
    "#check if there are dogs with more than one type\n",
    "nonunique_stage = archive_clean[(archive_clean['doggo'] != 'None') & (archive_clean['pupper'] != 'None')]\n",
    "nonunique_stage.iloc[:, -4:].head()"
   ]
  },
  {
   "cell_type": "code",
   "execution_count": 25,
   "metadata": {},
   "outputs": [
    {
     "data": {
      "text/plain": [
       "           2346\n",
       "floofer      10\n",
       "Name: floofer, dtype: int64"
      ]
     },
     "execution_count": 25,
     "metadata": {},
     "output_type": "execute_result"
    }
   ],
   "source": [
    "#replace the \"None\" values with \"\"\n",
    "archive_clean['doggo']= archive_clean['doggo'].replace('None', '')\n",
    "archive_clean['floofer']= archive_clean['floofer'].replace('None', '')\n",
    "archive_clean['pupper']= archive_clean['pupper'].replace('None', '')\n",
    "archive_clean['puppo']= archive_clean['puppo'].replace('None', '')\n",
    "\n",
    "archive_clean['floofer'].value_counts()"
   ]
  },
  {
   "cell_type": "code",
   "execution_count": 26,
   "metadata": {},
   "outputs": [
    {
     "data": {
      "text/plain": [
       "pupper           245\n",
       "doggo             83\n",
       "puppo             29\n",
       "doggo-pupper      12\n",
       "floofer            9\n",
       "doggo-floofer      1\n",
       "doggo-puppo        1\n",
       "Name: dog_type, dtype: int64"
      ]
     },
     "execution_count": 26,
     "metadata": {},
     "output_type": "execute_result"
    }
   ],
   "source": [
    "#add all the 4 columns into 1 column\n",
    "archive_clean['dog_type']= archive_clean['doggo']+archive_clean['floofer']+archive_clean['pupper']+archive_clean['puppo']\n",
    "#make the types more readable\n",
    "archive_clean['dog_type']= archive_clean['dog_type'].replace('doggopupper', 'doggo-pupper')\n",
    "archive_clean['dog_type']= archive_clean['dog_type'].replace('doggofloofer', 'doggo-floofer')\n",
    "archive_clean['dog_type']= archive_clean['dog_type'].replace('doggopuppo', 'doggo-puppo')\n",
    "#replace \"\" with NaN .. to be better with further calculations\n",
    "archive_clean['dog_type']= archive_clean['dog_type'].replace('', np.NaN)\n",
    "\n",
    "archive_clean['dog_type'].value_counts()"
   ]
  },
  {
   "cell_type": "code",
   "execution_count": 27,
   "metadata": {},
   "outputs": [
    {
     "data": {
      "text/html": [
       "<div>\n",
       "<style scoped>\n",
       "    .dataframe tbody tr th:only-of-type {\n",
       "        vertical-align: middle;\n",
       "    }\n",
       "\n",
       "    .dataframe tbody tr th {\n",
       "        vertical-align: top;\n",
       "    }\n",
       "\n",
       "    .dataframe thead th {\n",
       "        text-align: right;\n",
       "    }\n",
       "</style>\n",
       "<table border=\"1\" class=\"dataframe\">\n",
       "  <thead>\n",
       "    <tr style=\"text-align: right;\">\n",
       "      <th></th>\n",
       "      <th>tweet_id</th>\n",
       "      <th>in_reply_to_status_id</th>\n",
       "      <th>in_reply_to_user_id</th>\n",
       "      <th>timestamp</th>\n",
       "      <th>source</th>\n",
       "      <th>text</th>\n",
       "      <th>retweeted_status_id</th>\n",
       "      <th>retweeted_status_user_id</th>\n",
       "      <th>retweeted_status_timestamp</th>\n",
       "      <th>expanded_urls</th>\n",
       "      <th>rating_numerator</th>\n",
       "      <th>rating_denominator</th>\n",
       "      <th>name</th>\n",
       "      <th>dog_type</th>\n",
       "    </tr>\n",
       "  </thead>\n",
       "  <tbody>\n",
       "    <tr>\n",
       "      <th>1669</th>\n",
       "      <td>682429480204398592</td>\n",
       "      <td>NaN</td>\n",
       "      <td>NaN</td>\n",
       "      <td>2015-12-31 05:14:01 +0000</td>\n",
       "      <td>&lt;a href=\"http://twitter.com/download/iphone\" r...</td>\n",
       "      <td>I know we joke around on here, but this is get...</td>\n",
       "      <td>NaN</td>\n",
       "      <td>NaN</td>\n",
       "      <td>NaN</td>\n",
       "      <td>https://twitter.com/dog_rates/status/682429480...</td>\n",
       "      <td>8</td>\n",
       "      <td>10</td>\n",
       "      <td>None</td>\n",
       "      <td>NaN</td>\n",
       "    </tr>\n",
       "  </tbody>\n",
       "</table>\n",
       "</div>"
      ],
      "text/plain": [
       "                tweet_id  in_reply_to_status_id  in_reply_to_user_id  \\\n",
       "1669  682429480204398592                    NaN                  NaN   \n",
       "\n",
       "                      timestamp  \\\n",
       "1669  2015-12-31 05:14:01 +0000   \n",
       "\n",
       "                                                 source  \\\n",
       "1669  <a href=\"http://twitter.com/download/iphone\" r...   \n",
       "\n",
       "                                                   text  retweeted_status_id  \\\n",
       "1669  I know we joke around on here, but this is get...                  NaN   \n",
       "\n",
       "      retweeted_status_user_id retweeted_status_timestamp  \\\n",
       "1669                       NaN                        NaN   \n",
       "\n",
       "                                          expanded_urls  rating_numerator  \\\n",
       "1669  https://twitter.com/dog_rates/status/682429480...                 8   \n",
       "\n",
       "      rating_denominator  name dog_type  \n",
       "1669                  10  None      NaN  "
      ]
     },
     "execution_count": 27,
     "metadata": {},
     "output_type": "execute_result"
    }
   ],
   "source": [
    "#drop the un-needed columns\n",
    "archive_clean= archive_clean.drop(columns=['doggo','floofer','pupper','puppo'])\n",
    "archive_clean.sample()"
   ]
  },
  {
   "cell_type": "markdown",
   "metadata": {},
   "source": [
    "### Tidiness issue (1)"
   ]
  },
  {
   "cell_type": "code",
   "execution_count": 28,
   "metadata": {
    "scrolled": true
   },
   "outputs": [
    {
     "name": "stdout",
     "output_type": "stream",
     "text": [
      "<class 'pandas.core.frame.DataFrame'>\n",
      "Int64Index: 2058 entries, 0 to 2057\n",
      "Data columns (total 27 columns):\n",
      "tweet_id                      2058 non-null int64\n",
      "in_reply_to_status_id         23 non-null float64\n",
      "in_reply_to_user_id           23 non-null float64\n",
      "timestamp                     2058 non-null object\n",
      "source                        2058 non-null object\n",
      "text                          2058 non-null object\n",
      "retweeted_status_id           72 non-null float64\n",
      "retweeted_status_user_id      72 non-null float64\n",
      "retweeted_status_timestamp    72 non-null object\n",
      "expanded_urls                 2058 non-null object\n",
      "rating_numerator              2058 non-null int64\n",
      "rating_denominator            2058 non-null int64\n",
      "name                          2058 non-null object\n",
      "dog_type                      318 non-null object\n",
      "jpg_url                       2058 non-null object\n",
      "img_num                       2058 non-null int64\n",
      "p1                            2058 non-null object\n",
      "p1_conf                       2058 non-null float64\n",
      "p1_dog                        2058 non-null bool\n",
      "p2                            2058 non-null object\n",
      "p2_conf                       2058 non-null float64\n",
      "p2_dog                        2058 non-null bool\n",
      "p3                            2058 non-null object\n",
      "p3_conf                       2058 non-null float64\n",
      "p3_dog                        2058 non-null bool\n",
      "favorite_count                2058 non-null int64\n",
      "retweet_count                 2058 non-null int64\n",
      "dtypes: bool(3), float64(7), int64(6), object(11)\n",
      "memory usage: 408.0+ KB\n"
     ]
    },
    {
     "data": {
      "text/html": [
       "<div>\n",
       "<style scoped>\n",
       "    .dataframe tbody tr th:only-of-type {\n",
       "        vertical-align: middle;\n",
       "    }\n",
       "\n",
       "    .dataframe tbody tr th {\n",
       "        vertical-align: top;\n",
       "    }\n",
       "\n",
       "    .dataframe thead th {\n",
       "        text-align: right;\n",
       "    }\n",
       "</style>\n",
       "<table border=\"1\" class=\"dataframe\">\n",
       "  <thead>\n",
       "    <tr style=\"text-align: right;\">\n",
       "      <th></th>\n",
       "      <th>tweet_id</th>\n",
       "      <th>in_reply_to_status_id</th>\n",
       "      <th>in_reply_to_user_id</th>\n",
       "      <th>timestamp</th>\n",
       "      <th>source</th>\n",
       "      <th>text</th>\n",
       "      <th>retweeted_status_id</th>\n",
       "      <th>retweeted_status_user_id</th>\n",
       "      <th>retweeted_status_timestamp</th>\n",
       "      <th>expanded_urls</th>\n",
       "      <th>...</th>\n",
       "      <th>p1_conf</th>\n",
       "      <th>p1_dog</th>\n",
       "      <th>p2</th>\n",
       "      <th>p2_conf</th>\n",
       "      <th>p2_dog</th>\n",
       "      <th>p3</th>\n",
       "      <th>p3_conf</th>\n",
       "      <th>p3_dog</th>\n",
       "      <th>favorite_count</th>\n",
       "      <th>retweet_count</th>\n",
       "    </tr>\n",
       "  </thead>\n",
       "  <tbody>\n",
       "    <tr>\n",
       "      <th>0</th>\n",
       "      <td>892420643555336193</td>\n",
       "      <td>NaN</td>\n",
       "      <td>NaN</td>\n",
       "      <td>2017-08-01 16:23:56 +0000</td>\n",
       "      <td>&lt;a href=\"http://twitter.com/download/iphone\" r...</td>\n",
       "      <td>This is Phineas. He's a mystical boy. Only eve...</td>\n",
       "      <td>NaN</td>\n",
       "      <td>NaN</td>\n",
       "      <td>NaN</td>\n",
       "      <td>https://twitter.com/dog_rates/status/892420643...</td>\n",
       "      <td>...</td>\n",
       "      <td>0.097049</td>\n",
       "      <td>False</td>\n",
       "      <td>bagel</td>\n",
       "      <td>0.085851</td>\n",
       "      <td>False</td>\n",
       "      <td>banana</td>\n",
       "      <td>0.076110</td>\n",
       "      <td>False</td>\n",
       "      <td>34912</td>\n",
       "      <td>7326</td>\n",
       "    </tr>\n",
       "    <tr>\n",
       "      <th>1</th>\n",
       "      <td>892177421306343426</td>\n",
       "      <td>NaN</td>\n",
       "      <td>NaN</td>\n",
       "      <td>2017-08-01 00:17:27 +0000</td>\n",
       "      <td>&lt;a href=\"http://twitter.com/download/iphone\" r...</td>\n",
       "      <td>This is Tilly. She's just checking pup on you....</td>\n",
       "      <td>NaN</td>\n",
       "      <td>NaN</td>\n",
       "      <td>NaN</td>\n",
       "      <td>https://twitter.com/dog_rates/status/892177421...</td>\n",
       "      <td>...</td>\n",
       "      <td>0.323581</td>\n",
       "      <td>True</td>\n",
       "      <td>Pekinese</td>\n",
       "      <td>0.090647</td>\n",
       "      <td>True</td>\n",
       "      <td>papillon</td>\n",
       "      <td>0.068957</td>\n",
       "      <td>True</td>\n",
       "      <td>30234</td>\n",
       "      <td>5469</td>\n",
       "    </tr>\n",
       "    <tr>\n",
       "      <th>2</th>\n",
       "      <td>891815181378084864</td>\n",
       "      <td>NaN</td>\n",
       "      <td>NaN</td>\n",
       "      <td>2017-07-31 00:18:03 +0000</td>\n",
       "      <td>&lt;a href=\"http://twitter.com/download/iphone\" r...</td>\n",
       "      <td>This is Archie. He is a rare Norwegian Pouncin...</td>\n",
       "      <td>NaN</td>\n",
       "      <td>NaN</td>\n",
       "      <td>NaN</td>\n",
       "      <td>https://twitter.com/dog_rates/status/891815181...</td>\n",
       "      <td>...</td>\n",
       "      <td>0.716012</td>\n",
       "      <td>True</td>\n",
       "      <td>malamute</td>\n",
       "      <td>0.078253</td>\n",
       "      <td>True</td>\n",
       "      <td>kelpie</td>\n",
       "      <td>0.031379</td>\n",
       "      <td>True</td>\n",
       "      <td>22752</td>\n",
       "      <td>3616</td>\n",
       "    </tr>\n",
       "  </tbody>\n",
       "</table>\n",
       "<p>3 rows × 27 columns</p>\n",
       "</div>"
      ],
      "text/plain": [
       "             tweet_id  in_reply_to_status_id  in_reply_to_user_id  \\\n",
       "0  892420643555336193                    NaN                  NaN   \n",
       "1  892177421306343426                    NaN                  NaN   \n",
       "2  891815181378084864                    NaN                  NaN   \n",
       "\n",
       "                   timestamp  \\\n",
       "0  2017-08-01 16:23:56 +0000   \n",
       "1  2017-08-01 00:17:27 +0000   \n",
       "2  2017-07-31 00:18:03 +0000   \n",
       "\n",
       "                                              source  \\\n",
       "0  <a href=\"http://twitter.com/download/iphone\" r...   \n",
       "1  <a href=\"http://twitter.com/download/iphone\" r...   \n",
       "2  <a href=\"http://twitter.com/download/iphone\" r...   \n",
       "\n",
       "                                                text  retweeted_status_id  \\\n",
       "0  This is Phineas. He's a mystical boy. Only eve...                  NaN   \n",
       "1  This is Tilly. She's just checking pup on you....                  NaN   \n",
       "2  This is Archie. He is a rare Norwegian Pouncin...                  NaN   \n",
       "\n",
       "   retweeted_status_user_id retweeted_status_timestamp  \\\n",
       "0                       NaN                        NaN   \n",
       "1                       NaN                        NaN   \n",
       "2                       NaN                        NaN   \n",
       "\n",
       "                                       expanded_urls      ...        p1_conf  \\\n",
       "0  https://twitter.com/dog_rates/status/892420643...      ...       0.097049   \n",
       "1  https://twitter.com/dog_rates/status/892177421...      ...       0.323581   \n",
       "2  https://twitter.com/dog_rates/status/891815181...      ...       0.716012   \n",
       "\n",
       "   p1_dog        p2   p2_conf p2_dog        p3   p3_conf  p3_dog  \\\n",
       "0   False     bagel  0.085851  False    banana  0.076110   False   \n",
       "1    True  Pekinese  0.090647   True  papillon  0.068957    True   \n",
       "2    True  malamute  0.078253   True    kelpie  0.031379    True   \n",
       "\n",
       "   favorite_count retweet_count  \n",
       "0           34912          7326  \n",
       "1           30234          5469  \n",
       "2           22752          3616  \n",
       "\n",
       "[3 rows x 27 columns]"
      ]
     },
     "execution_count": 28,
     "metadata": {},
     "output_type": "execute_result"
    }
   ],
   "source": [
    "# merge all 3 table into one\n",
    "master= archive_clean.merge(img_predictions_clean, on='tweet_id').merge(api_clean, on='tweet_id')\n",
    "\n",
    "#TEST\n",
    "master.info()\n",
    "master.head(3)\n",
    "\n",
    "#notice: Quality issue(7) solved .. dropped all tweets with no image\n",
    "#notice: merging with 'api_clean' dropped all tweets not present on twitter right now (deleted maybe)"
   ]
  },
  {
   "cell_type": "markdown",
   "metadata": {},
   "source": [
    "### quality issue (1)\n",
    "    turn the type of 'tweet_id' into a string"
   ]
  },
  {
   "cell_type": "code",
   "execution_count": 29,
   "metadata": {
    "scrolled": true
   },
   "outputs": [
    {
     "name": "stdout",
     "output_type": "stream",
     "text": [
      "<class 'pandas.core.frame.DataFrame'>\n",
      "Int64Index: 2058 entries, 0 to 2057\n",
      "Data columns (total 27 columns):\n",
      "tweet_id                      2058 non-null object\n",
      "in_reply_to_status_id         23 non-null float64\n",
      "in_reply_to_user_id           23 non-null float64\n",
      "timestamp                     2058 non-null object\n",
      "source                        2058 non-null object\n",
      "text                          2058 non-null object\n",
      "retweeted_status_id           72 non-null float64\n",
      "retweeted_status_user_id      72 non-null float64\n",
      "retweeted_status_timestamp    72 non-null object\n",
      "expanded_urls                 2058 non-null object\n",
      "rating_numerator              2058 non-null int64\n",
      "rating_denominator            2058 non-null int64\n",
      "name                          2058 non-null object\n",
      "dog_type                      318 non-null object\n",
      "jpg_url                       2058 non-null object\n",
      "img_num                       2058 non-null int64\n",
      "p1                            2058 non-null object\n",
      "p1_conf                       2058 non-null float64\n",
      "p1_dog                        2058 non-null bool\n",
      "p2                            2058 non-null object\n",
      "p2_conf                       2058 non-null float64\n",
      "p2_dog                        2058 non-null bool\n",
      "p3                            2058 non-null object\n",
      "p3_conf                       2058 non-null float64\n",
      "p3_dog                        2058 non-null bool\n",
      "favorite_count                2058 non-null int64\n",
      "retweet_count                 2058 non-null int64\n",
      "dtypes: bool(3), float64(7), int64(5), object(12)\n",
      "memory usage: 408.0+ KB\n"
     ]
    }
   ],
   "source": [
    "master['tweet_id']= master['tweet_id'].astype('object')\n",
    "#TEST\n",
    "master.info()"
   ]
  },
  {
   "cell_type": "markdown",
   "metadata": {},
   "source": [
    "### quality issue (2)\n",
    "    turn the type of 'timestamp' into a datetype"
   ]
  },
  {
   "cell_type": "code",
   "execution_count": 30,
   "metadata": {},
   "outputs": [
    {
     "name": "stdout",
     "output_type": "stream",
     "text": [
      "<class 'pandas.core.frame.DataFrame'>\n",
      "Int64Index: 2058 entries, 0 to 2057\n",
      "Data columns (total 27 columns):\n",
      "tweet_id                      2058 non-null object\n",
      "in_reply_to_status_id         23 non-null float64\n",
      "in_reply_to_user_id           23 non-null float64\n",
      "timestamp                     2058 non-null datetime64[ns]\n",
      "source                        2058 non-null object\n",
      "text                          2058 non-null object\n",
      "retweeted_status_id           72 non-null float64\n",
      "retweeted_status_user_id      72 non-null float64\n",
      "retweeted_status_timestamp    72 non-null object\n",
      "expanded_urls                 2058 non-null object\n",
      "rating_numerator              2058 non-null int64\n",
      "rating_denominator            2058 non-null int64\n",
      "name                          2058 non-null object\n",
      "dog_type                      318 non-null object\n",
      "jpg_url                       2058 non-null object\n",
      "img_num                       2058 non-null int64\n",
      "p1                            2058 non-null object\n",
      "p1_conf                       2058 non-null float64\n",
      "p1_dog                        2058 non-null bool\n",
      "p2                            2058 non-null object\n",
      "p2_conf                       2058 non-null float64\n",
      "p2_dog                        2058 non-null bool\n",
      "p3                            2058 non-null object\n",
      "p3_conf                       2058 non-null float64\n",
      "p3_dog                        2058 non-null bool\n",
      "favorite_count                2058 non-null int64\n",
      "retweet_count                 2058 non-null int64\n",
      "dtypes: bool(3), datetime64[ns](1), float64(7), int64(5), object(11)\n",
      "memory usage: 408.0+ KB\n"
     ]
    }
   ],
   "source": [
    "master['timestamp']= pd.to_datetime(master['timestamp'])\n",
    "#TEST\n",
    "master.info()"
   ]
  },
  {
   "cell_type": "markdown",
   "metadata": {},
   "source": [
    "### quality issue (3)\n",
    "    remove all name of ('a', 'an', 'the') .. and turn cells with no name to NaN"
   ]
  },
  {
   "cell_type": "code",
   "execution_count": 31,
   "metadata": {
    "scrolled": true
   },
   "outputs": [
    {
     "data": {
      "text/plain": [
       "Cooper        10\n",
       "Charlie       10\n",
       "Penny         10\n",
       "Tucker        10\n",
       "Oliver        10\n",
       "Lucy           9\n",
       "Lola           8\n",
       "Sadie          8\n",
       "Winston        8\n",
       "Bo             8\n",
       "Daisy          7\n",
       "Toby           7\n",
       "Jax            6\n",
       "Scout          6\n",
       "Stanley        6\n",
       "Bailey         6\n",
       "Dave           6\n",
       "Koda           6\n",
       "Milo           6\n",
       "Rusty          6\n",
       "Bella          6\n",
       "Buddy          5\n",
       "Louis          5\n",
       "Larry          5\n",
       "Alfie          5\n",
       "Oscar          5\n",
       "Leo            5\n",
       "Chester        5\n",
       "Jack           4\n",
       "Finn           4\n",
       "              ..\n",
       "Theo           1\n",
       "Sierra         1\n",
       "O              1\n",
       "Reptar         1\n",
       "Tuco           1\n",
       "Puff           1\n",
       "Bobb           1\n",
       "Ralphie        1\n",
       "Opie           1\n",
       "Corey          1\n",
       "Philbert       1\n",
       "Ronduh         1\n",
       "Alexander      1\n",
       "Geoff          1\n",
       "Eazy           1\n",
       "Longfellow     1\n",
       "Josep          1\n",
       "Clarkus        1\n",
       "Aubie          1\n",
       "Shiloh         1\n",
       "Crimson        1\n",
       "Kirk           1\n",
       "BeBe           1\n",
       "Sage           1\n",
       "Sweet          1\n",
       "Berkeley       1\n",
       "Meyer          1\n",
       "Chubbs         1\n",
       "Chef           1\n",
       "Jaspers        1\n",
       "Name: name, Length: 929, dtype: int64"
      ]
     },
     "execution_count": 31,
     "metadata": {},
     "output_type": "execute_result"
    }
   ],
   "source": [
    "master['name']= master['name'].replace('a', np.NaN).replace('an', np.NaN).replace('the', np.NaN)\n",
    "master['name']= master['name'].replace('None', np.NaN)\n",
    "#TEST\n",
    "master['name'].value_counts()"
   ]
  },
  {
   "cell_type": "markdown",
   "metadata": {},
   "source": [
    "### quality issue (4)\n",
    "    'None' values in dogs types were replaced with NaNs during fixing Tidiness issue (2)"
   ]
  },
  {
   "cell_type": "markdown",
   "metadata": {},
   "source": [
    "### quality issue (5)\n",
    "    drop all rows that have value in 'in_reply_to_status_id' (these all are replies not orgial tweets)"
   ]
  },
  {
   "cell_type": "code",
   "execution_count": 32,
   "metadata": {},
   "outputs": [
    {
     "data": {
      "text/plain": [
       "False"
      ]
     },
     "execution_count": 32,
     "metadata": {},
     "output_type": "execute_result"
    }
   ],
   "source": [
    "master= master[master['in_reply_to_status_id'].isna()]\n",
    "#TEST\n",
    "~master['in_reply_to_status_id'].isna().any()"
   ]
  },
  {
   "cell_type": "markdown",
   "metadata": {},
   "source": [
    "### quality issue (6)\n",
    "    drop all rows that have value in 'retweeted_status_id' (these all are retweets not orgial tweets)"
   ]
  },
  {
   "cell_type": "code",
   "execution_count": 33,
   "metadata": {},
   "outputs": [
    {
     "data": {
      "text/plain": [
       "False"
      ]
     },
     "execution_count": 33,
     "metadata": {},
     "output_type": "execute_result"
    }
   ],
   "source": [
    "master= master[master['retweeted_status_id'].isna()]\n",
    "#TEST\n",
    "~master['retweeted_status_id'].isna().any()"
   ]
  },
  {
   "cell_type": "markdown",
   "metadata": {},
   "source": [
    "### quality issue (7)\n",
    "    tweets with no photos were dropped during fixing Tidiness issue (1) and merging the 3 tables"
   ]
  },
  {
   "cell_type": "markdown",
   "metadata": {},
   "source": [
    "### quality issue (8)\n",
    "    in tweet with id= 666287406224695296 .. change rating from 1/2 to 9/10 manually"
   ]
  },
  {
   "cell_type": "code",
   "execution_count": 34,
   "metadata": {},
   "outputs": [
    {
     "data": {
      "text/html": [
       "<div>\n",
       "<style scoped>\n",
       "    .dataframe tbody tr th:only-of-type {\n",
       "        vertical-align: middle;\n",
       "    }\n",
       "\n",
       "    .dataframe tbody tr th {\n",
       "        vertical-align: top;\n",
       "    }\n",
       "\n",
       "    .dataframe thead th {\n",
       "        text-align: right;\n",
       "    }\n",
       "</style>\n",
       "<table border=\"1\" class=\"dataframe\">\n",
       "  <thead>\n",
       "    <tr style=\"text-align: right;\">\n",
       "      <th></th>\n",
       "      <th>rating_numerator</th>\n",
       "      <th>rating_denominator</th>\n",
       "    </tr>\n",
       "  </thead>\n",
       "  <tbody>\n",
       "  </tbody>\n",
       "</table>\n",
       "</div>"
      ],
      "text/plain": [
       "Empty DataFrame\n",
       "Columns: [rating_numerator, rating_denominator]\n",
       "Index: []"
      ]
     },
     "execution_count": 34,
     "metadata": {},
     "output_type": "execute_result"
    }
   ],
   "source": [
    "index= master[master['tweet_id']=='666287406224695296'].index\n",
    "master.loc[index, 'rating_numerator']= 9\n",
    "master.loc[index, 'rating_denominator']= 10\n",
    "\n",
    "#TEST\n",
    "master[master['tweet_id']=='666287406224695296'][['rating_numerator', 'rating_denominator']]"
   ]
  },
  {
   "cell_type": "markdown",
   "metadata": {},
   "source": [
    "### quality issue (9)\n",
    "    expanded_urls that were presented twice were dropped in fixing Tidiness issue (2) of merging the 3 tables"
   ]
  },
  {
   "cell_type": "markdown",
   "metadata": {},
   "source": [
    "### quality issue (10)\n",
    "    turn the 'dog_type' column into catigorical type "
   ]
  },
  {
   "cell_type": "code",
   "execution_count": 35,
   "metadata": {},
   "outputs": [
    {
     "data": {
      "text/plain": [
       "0    NaN\n",
       "Name: dog_type, dtype: category\n",
       "Categories (7, object): [doggo, doggo-floofer, doggo-pupper, doggo-puppo, floofer, pupper, puppo]"
      ]
     },
     "execution_count": 35,
     "metadata": {},
     "output_type": "execute_result"
    }
   ],
   "source": [
    "master['dog_type']= master['dog_type'].astype('category')\n",
    "\n",
    "#TEST\n",
    "master['dog_type'].head(1)"
   ]
  },
  {
   "cell_type": "markdown",
   "metadata": {},
   "source": [
    "### quality issue (11)\n",
    "    turn the 'source' column into catigorical type "
   ]
  },
  {
   "cell_type": "code",
   "execution_count": 36,
   "metadata": {},
   "outputs": [
    {
     "data": {
      "text/plain": [
       "0    <a href=\"http://twitter.com/download/iphone\" r...\n",
       "Name: source, dtype: category\n",
       "Categories (3, object): [<a href=\"http://twitter.com\" rel=\"nofollow\">Tw..., <a href=\"http://twitter.com/download/iphone\" r..., <a href=\"https://about.twitter.com/products/tw...]"
      ]
     },
     "execution_count": 36,
     "metadata": {},
     "output_type": "execute_result"
    }
   ],
   "source": [
    "master['source']= master['source'].astype('category')\n",
    "\n",
    "#TEST\n",
    "master['source'].head(1)"
   ]
  },
  {
   "cell_type": "markdown",
   "metadata": {},
   "source": [
    "### quality issue (12)\n",
    "    make ['p1','p1_conf','p1_dog'] columns more readable and meaningful"
   ]
  },
  {
   "cell_type": "code",
   "execution_count": 37,
   "metadata": {},
   "outputs": [
    {
     "data": {
      "text/html": [
       "<div>\n",
       "<style scoped>\n",
       "    .dataframe tbody tr th:only-of-type {\n",
       "        vertical-align: middle;\n",
       "    }\n",
       "\n",
       "    .dataframe tbody tr th {\n",
       "        vertical-align: top;\n",
       "    }\n",
       "\n",
       "    .dataframe thead th {\n",
       "        text-align: right;\n",
       "    }\n",
       "</style>\n",
       "<table border=\"1\" class=\"dataframe\">\n",
       "  <thead>\n",
       "    <tr style=\"text-align: right;\">\n",
       "      <th></th>\n",
       "      <th>predicted_breed_1</th>\n",
       "      <th>confidence_1</th>\n",
       "      <th>is_a_dog?_1</th>\n",
       "    </tr>\n",
       "  </thead>\n",
       "  <tbody>\n",
       "    <tr>\n",
       "      <th>1999</th>\n",
       "      <td>Chihuahua</td>\n",
       "      <td>0.959514</td>\n",
       "      <td>True</td>\n",
       "    </tr>\n",
       "    <tr>\n",
       "      <th>1545</th>\n",
       "      <td>hamster</td>\n",
       "      <td>0.999484</td>\n",
       "      <td>False</td>\n",
       "    </tr>\n",
       "  </tbody>\n",
       "</table>\n",
       "</div>"
      ],
      "text/plain": [
       "     predicted_breed_1  confidence_1  is_a_dog?_1\n",
       "1999         Chihuahua      0.959514         True\n",
       "1545           hamster      0.999484        False"
      ]
     },
     "execution_count": 37,
     "metadata": {},
     "output_type": "execute_result"
    }
   ],
   "source": [
    "master= master.rename(columns={'p1':'predicted_breed_1' , 'p2':'predicted_breed_2' , 'p3':'predicted_breed_3'})\n",
    "master= master.rename(columns={'p1_conf':'confidence_1' , 'p2_conf':'confidence_2' , 'p3_conf':'confidence_3'})\n",
    "master= master.rename(columns={'p1_dog':'is_a_dog?_1' , 'p2_dog':'is_a_dog?_2' , 'p3_dog':'is_a_dog?_3'})\n",
    "\n",
    "#TEST\n",
    "master[['predicted_breed_1', 'confidence_1', 'is_a_dog?_1']].sample(2)"
   ]
  },
  {
   "cell_type": "markdown",
   "metadata": {},
   "source": [
    "### quality issue (13)\n",
    "    turn 'img_num' column into string category (tweet_id were turned into string before in the master dataframe)"
   ]
  },
  {
   "cell_type": "code",
   "execution_count": 38,
   "metadata": {},
   "outputs": [
    {
     "data": {
      "text/plain": [
       "<a href=\"http://twitter.com/download/iphone\" rel=\"nofollow\">Twitter for iPhone</a>     1925\n",
       "<a href=\"http://twitter.com\" rel=\"nofollow\">Twitter Web Client</a>                       28\n",
       "<a href=\"https://about.twitter.com/products/tweetdeck\" rel=\"nofollow\">TweetDeck</a>      10\n",
       "Name: source, dtype: int64"
      ]
     },
     "execution_count": 38,
     "metadata": {},
     "output_type": "execute_result"
    }
   ],
   "source": [
    "master['img_num']= master['img_num'].astype('category')\n",
    "\n",
    "#TEST\n",
    "# master.info()\n",
    "master.source.value_counts()"
   ]
  },
  {
   "cell_type": "markdown",
   "metadata": {},
   "source": [
    "### quality issue (14)\n",
    "    'jpg_url' that were presented twice were dropped in fixing Tidiness issue (2) of merging the 3 tables"
   ]
  },
  {
   "cell_type": "markdown",
   "metadata": {},
   "source": [
    "### quality issue (15)\n",
    "    the missing values for favorite_count can't be retrevied .. as this is how the twitter API delivered the data to me"
   ]
  },
  {
   "cell_type": "markdown",
   "metadata": {},
   "source": [
    "### final steps in cleaning and before storing\n",
    "    1- reset the indexes (because some rows were dropped)\n",
    "    2- drop unwanted columns "
   ]
  },
  {
   "cell_type": "code",
   "execution_count": 39,
   "metadata": {
    "scrolled": true
   },
   "outputs": [
    {
     "data": {
      "text/plain": [
       "RangeIndex(start=0, stop=1963, step=1)"
      ]
     },
     "execution_count": 39,
     "metadata": {},
     "output_type": "execute_result"
    }
   ],
   "source": [
    "#1- reset indexes\n",
    "master= master.reset_index(drop=True)\n",
    "#TEST\n",
    "master.index"
   ]
  },
  {
   "cell_type": "code",
   "execution_count": 40,
   "metadata": {},
   "outputs": [
    {
     "data": {
      "text/plain": [
       "Index(['tweet_id', 'timestamp', 'source', 'text', 'expanded_urls',\n",
       "       'rating_numerator', 'rating_denominator', 'name', 'dog_type', 'jpg_url',\n",
       "       'img_num', 'predicted_breed_1', 'confidence_1', 'is_a_dog?_1',\n",
       "       'predicted_breed_2', 'confidence_2', 'is_a_dog?_2', 'predicted_breed_3',\n",
       "       'confidence_3', 'is_a_dog?_3', 'favorite_count', 'retweet_count'],\n",
       "      dtype='object')"
      ]
     },
     "execution_count": 40,
     "metadata": {},
     "output_type": "execute_result"
    }
   ],
   "source": [
    "#2- drop columns of replies & retweets\n",
    "master= master.drop(columns= ['in_reply_to_status_id', 'in_reply_to_user_id', 'retweeted_status_id', 'retweeted_status_user_id',\n",
    "       'retweeted_status_timestamp'])\n",
    "#TEST\n",
    "master.columns"
   ]
  },
  {
   "cell_type": "markdown",
   "metadata": {},
   "source": [
    "# (4) Storing data"
   ]
  },
  {
   "cell_type": "code",
   "execution_count": 41,
   "metadata": {},
   "outputs": [],
   "source": [
    "master.to_csv('twitter_archive_master.csv', index=False)"
   ]
  },
  {
   "cell_type": "markdown",
   "metadata": {},
   "source": [
    "# (5) Analysis & Visualizations"
   ]
  },
  {
   "cell_type": "code",
   "execution_count": 42,
   "metadata": {},
   "outputs": [
    {
     "name": "stdout",
     "output_type": "stream",
     "text": [
      "<class 'pandas.core.frame.DataFrame'>\n",
      "RangeIndex: 1963 entries, 0 to 1962\n",
      "Data columns (total 22 columns):\n",
      "tweet_id              1963 non-null object\n",
      "timestamp             1963 non-null datetime64[ns]\n",
      "source                1963 non-null category\n",
      "text                  1963 non-null object\n",
      "expanded_urls         1963 non-null object\n",
      "rating_numerator      1963 non-null int64\n",
      "rating_denominator    1963 non-null int64\n",
      "name                  1371 non-null object\n",
      "dog_type              302 non-null category\n",
      "jpg_url               1963 non-null object\n",
      "img_num               1963 non-null category\n",
      "predicted_breed_1     1963 non-null object\n",
      "confidence_1          1963 non-null float64\n",
      "is_a_dog?_1           1963 non-null bool\n",
      "predicted_breed_2     1963 non-null object\n",
      "confidence_2          1963 non-null float64\n",
      "is_a_dog?_2           1963 non-null bool\n",
      "predicted_breed_3     1963 non-null object\n",
      "confidence_3          1963 non-null float64\n",
      "is_a_dog?_3           1963 non-null bool\n",
      "favorite_count        1963 non-null int64\n",
      "retweet_count         1963 non-null int64\n",
      "dtypes: bool(3), category(3), datetime64[ns](1), float64(3), int64(4), object(8)\n",
      "memory usage: 257.6+ KB\n"
     ]
    }
   ],
   "source": [
    "master.info()\n",
    "  "
   ]
  },
  {
   "cell_type": "code",
   "execution_count": 43,
   "metadata": {},
   "outputs": [
    {
     "data": {
      "text/html": [
       "<div>\n",
       "<style scoped>\n",
       "    .dataframe tbody tr th:only-of-type {\n",
       "        vertical-align: middle;\n",
       "    }\n",
       "\n",
       "    .dataframe tbody tr th {\n",
       "        vertical-align: top;\n",
       "    }\n",
       "\n",
       "    .dataframe thead th {\n",
       "        text-align: right;\n",
       "    }\n",
       "</style>\n",
       "<table border=\"1\" class=\"dataframe\">\n",
       "  <thead>\n",
       "    <tr style=\"text-align: right;\">\n",
       "      <th></th>\n",
       "      <th>rating_numerator</th>\n",
       "      <th>rating_denominator</th>\n",
       "      <th>confidence_1</th>\n",
       "      <th>confidence_2</th>\n",
       "      <th>confidence_3</th>\n",
       "      <th>favorite_count</th>\n",
       "      <th>retweet_count</th>\n",
       "    </tr>\n",
       "  </thead>\n",
       "  <tbody>\n",
       "    <tr>\n",
       "      <th>count</th>\n",
       "      <td>1963.00000</td>\n",
       "      <td>1963.00000</td>\n",
       "      <td>1963.00000</td>\n",
       "      <td>1963.00000</td>\n",
       "      <td>1963.00000</td>\n",
       "      <td>1963.00000</td>\n",
       "      <td>1963.00000</td>\n",
       "    </tr>\n",
       "    <tr>\n",
       "      <th>mean</th>\n",
       "      <td>12.22313</td>\n",
       "      <td>10.47937</td>\n",
       "      <td>0.59414</td>\n",
       "      <td>0.13466</td>\n",
       "      <td>0.06030</td>\n",
       "      <td>8029.02241</td>\n",
       "      <td>2357.74019</td>\n",
       "    </tr>\n",
       "    <tr>\n",
       "      <th>std</th>\n",
       "      <td>41.71878</td>\n",
       "      <td>6.86717</td>\n",
       "      <td>0.27204</td>\n",
       "      <td>0.10096</td>\n",
       "      <td>0.05098</td>\n",
       "      <td>11810.37054</td>\n",
       "      <td>4212.21717</td>\n",
       "    </tr>\n",
       "    <tr>\n",
       "      <th>min</th>\n",
       "      <td>0.00000</td>\n",
       "      <td>2.00000</td>\n",
       "      <td>0.04433</td>\n",
       "      <td>0.00000</td>\n",
       "      <td>0.00000</td>\n",
       "      <td>69.00000</td>\n",
       "      <td>11.00000</td>\n",
       "    </tr>\n",
       "    <tr>\n",
       "      <th>25%</th>\n",
       "      <td>10.00000</td>\n",
       "      <td>10.00000</td>\n",
       "      <td>0.36288</td>\n",
       "      <td>0.05352</td>\n",
       "      <td>0.01619</td>\n",
       "      <td>1721.50000</td>\n",
       "      <td>526.50000</td>\n",
       "    </tr>\n",
       "    <tr>\n",
       "      <th>50%</th>\n",
       "      <td>11.00000</td>\n",
       "      <td>10.00000</td>\n",
       "      <td>0.58737</td>\n",
       "      <td>0.11740</td>\n",
       "      <td>0.04949</td>\n",
       "      <td>3620.00000</td>\n",
       "      <td>1137.00000</td>\n",
       "    </tr>\n",
       "    <tr>\n",
       "      <th>75%</th>\n",
       "      <td>12.00000</td>\n",
       "      <td>10.00000</td>\n",
       "      <td>0.84714</td>\n",
       "      <td>0.19557</td>\n",
       "      <td>0.09164</td>\n",
       "      <td>10017.00000</td>\n",
       "      <td>2693.00000</td>\n",
       "    </tr>\n",
       "    <tr>\n",
       "      <th>max</th>\n",
       "      <td>1776.00000</td>\n",
       "      <td>170.00000</td>\n",
       "      <td>1.00000</td>\n",
       "      <td>0.48801</td>\n",
       "      <td>0.27342</td>\n",
       "      <td>149992.00000</td>\n",
       "      <td>73988.00000</td>\n",
       "    </tr>\n",
       "  </tbody>\n",
       "</table>\n",
       "</div>"
      ],
      "text/plain": [
       "      rating_numerator rating_denominator confidence_1 confidence_2  \\\n",
       "count       1963.00000         1963.00000   1963.00000   1963.00000   \n",
       "mean          12.22313           10.47937      0.59414      0.13466   \n",
       "std           41.71878            6.86717      0.27204      0.10096   \n",
       "min            0.00000            2.00000      0.04433      0.00000   \n",
       "25%           10.00000           10.00000      0.36288      0.05352   \n",
       "50%           11.00000           10.00000      0.58737      0.11740   \n",
       "75%           12.00000           10.00000      0.84714      0.19557   \n",
       "max         1776.00000          170.00000      1.00000      0.48801   \n",
       "\n",
       "      confidence_3 favorite_count retweet_count  \n",
       "count   1963.00000     1963.00000    1963.00000  \n",
       "mean       0.06030     8029.02241    2357.74019  \n",
       "std        0.05098    11810.37054    4212.21717  \n",
       "min        0.00000       69.00000      11.00000  \n",
       "25%        0.01619     1721.50000     526.50000  \n",
       "50%        0.04949     3620.00000    1137.00000  \n",
       "75%        0.09164    10017.00000    2693.00000  \n",
       "max        0.27342   149992.00000   73988.00000  "
      ]
     },
     "execution_count": 43,
     "metadata": {},
     "output_type": "execute_result"
    }
   ],
   "source": [
    "master.describe().apply(lambda s: s.apply('{0:.5f}'.format))\n",
    "# the .apply() is to avoind showing the confidence columns in scintefic notation "
   ]
  },
  {
   "cell_type": "code",
   "execution_count": 44,
   "metadata": {},
   "outputs": [],
   "source": [
    "### some insights from the exploring the data ###\n",
    "## ANALYSIS\n",
    "# most common names of dogs\n",
    "# most predicted breeds (1- 2- 3)\n",
    "# is there are times when the page is most acitve\n",
    "# what makes a tweet get more favorites & retweets {dog type- dog breed}\n",
    "# comparision between dogs' types {doggo-...}\n",
    "# does a specific types of dogs gets more interaction (compare average interaction)\n",
    "# statiscal analysis on the ratings\n",
    "\n",
    "## VISUALIZATION\n",
    "# how often does the page tweets (overtime)\n",
    "# comparision between sources\n",
    "# compare range of each confidence\n",
    "# does retweets counts has a relation with the favorite counts"
   ]
  },
  {
   "cell_type": "markdown",
   "metadata": {},
   "source": [
    "#### Interaction on the page overtime"
   ]
  },
  {
   "cell_type": "code",
   "execution_count": 45,
   "metadata": {},
   "outputs": [
    {
     "data": {
      "image/png": "[encoded data removed]",
      "text/plain": [
       "<matplotlib.figure.Figure at 0x7ff6d1245358>"
      ]
     },
     "metadata": {
      "needs_background": "light"
     },
     "output_type": "display_data"
    }
   ],
   "source": [
    "#make a new column containg only year & month\n",
    "master['year_month'] =master['timestamp'].dt.to_period('M')\n",
    "# plot the averge favorite_counts and retweet_counts for each month\n",
    "master.groupby('year_month')['favorite_count'].mean() .plot(kind='line')\n",
    "master.groupby('year_month')['retweet_count'].mean() .plot(kind='line')\n",
    "plt.legend(['favorite_count','retweet_count'])\n",
    "plt.title('the mean per month')\n",
    "plt.show()"
   ]
  },
  {
   "cell_type": "code",
   "execution_count": 46,
   "metadata": {},
   "outputs": [
    {
     "data": {
      "image/png": "[encoded data removed]",
      "text/plain": [
       "<matplotlib.figure.Figure at 0x7ff6d1273080>"
      ]
     },
     "metadata": {
      "needs_background": "light"
     },
     "output_type": "display_data"
    }
   ],
   "source": [
    "master.groupby('year_month')['timestamp'].count() .plot(kind='line')\n",
    "plt.title('the count of tweets per month')\n",
    "plt.show()"
   ]
  },
  {
   "cell_type": "markdown",
   "metadata": {},
   "source": [
    "    RESULTS: favorite counts and retweet counts increased significantly overtime\n",
    "    note: the count of tweets per month decreased over time (then almost stabilized)\n",
    "          this means the raise in interaction with the tweets is not duo to posting more tweets\n",
    "          but may be because of the raise in quality and popularity of the page"
   ]
  },
  {
   "cell_type": "markdown",
   "metadata": {},
   "source": [
    "#### What makes a tweet interactive"
   ]
  },
  {
   "cell_type": "code",
   "execution_count": 47,
   "metadata": {},
   "outputs": [
    {
     "data": {
      "image/png": "[encoded data removed]",
      "text/plain": [
       "<matplotlib.figure.Figure at 0x7ff6cf12c160>"
      ]
     },
     "metadata": {
      "needs_background": "light"
     },
     "output_type": "display_data"
    }
   ],
   "source": [
    "types_counts= pd.DataFrame(master['dog_type'].value_counts()).reset_index().rename(columns={'index':'type', 'name':'count'})\n",
    "types_counts.head(15).plot(kind='barh', x='type')\n",
    "plt.title('count of tweets for each dog type')\n",
    "plt.show()"
   ]
  },
  {
   "cell_type": "code",
   "execution_count": 48,
   "metadata": {},
   "outputs": [
    {
     "data": {
      "image/png": "[encoded data removed]",
      "text/plain": [
       "<matplotlib.figure.Figure at 0x7ff6cf084518>"
      ]
     },
     "metadata": {
      "needs_background": "light"
     },
     "output_type": "display_data"
    }
   ],
   "source": [
    "master.groupby('dog_type')['favorite_count'].sum() .plot(kind='barh')\n",
    "plt.title('total sum of favorites for each dog type')\n",
    "plt.show()"
   ]
  },
  {
   "cell_type": "code",
   "execution_count": 49,
   "metadata": {},
   "outputs": [
    {
     "data": {
      "image/png": "[encoded data removed]",
      "text/plain": [
       "<matplotlib.figure.Figure at 0x7ff6cefee4a8>"
      ]
     },
     "metadata": {
      "needs_background": "light"
     },
     "output_type": "display_data"
    }
   ],
   "source": [
    "master.groupby('dog_type')['favorite_count'].mean() .plot(kind='barh')\n",
    "plt.title('average of favorites for each dog type')\n",
    "plt.show()"
   ]
  },
  {
   "cell_type": "markdown",
   "metadata": {},
   "source": [
    "    RESULT: despite the fact that 'pupper' type has the most tweets with its name & most favorites in total\n",
    "            but the 'doggo-puppo' has the highest favorites rate in average (means its posts are more interactive)"
   ]
  },
  {
   "cell_type": "markdown",
   "metadata": {},
   "source": [
    "____________________________________"
   ]
  },
  {
   "cell_type": "code",
   "execution_count": 50,
   "metadata": {},
   "outputs": [
    {
     "data": {
      "image/png": "[encoded data removed]",
      "text/plain": [
       "<matplotlib.figure.Figure at 0x7ff6cefacb38>"
      ]
     },
     "metadata": {
      "needs_background": "light"
     },
     "output_type": "display_data"
    }
   ],
   "source": [
    "top_breed_sum= pd.DataFrame(master[master['is_a_dog?_1']==True].groupby('predicted_breed_1')\n",
    "                        .sum()['favorite_count']).sort_values('favorite_count', ascending=False).head(10)\n",
    "top_breed_sum.plot(kind='barh')\n",
    "plt.title('total sum of favorites for each dog breed')\n",
    "plt.show()"
   ]
  },
  {
   "cell_type": "code",
   "execution_count": 51,
   "metadata": {},
   "outputs": [
    {
     "data": {
      "image/png": "[encoded data removed]",
      "text/plain": [
       "<matplotlib.figure.Figure at 0x7ff6cef06160>"
      ]
     },
     "metadata": {
      "needs_background": "light"
     },
     "output_type": "display_data"
    }
   ],
   "source": [
    "top_breed_count= pd.DataFrame(master[master['is_a_dog?_1']==True].groupby('predicted_breed_1')\n",
    "                        .count()['favorite_count']).sort_values('favorite_count', ascending=False).head(10)\n",
    "top_breed_count.plot(kind='barh')\n",
    "plt.title('count of tweets for each dog breed')\n",
    "plt.show()"
   ]
  },
  {
   "cell_type": "code",
   "execution_count": 52,
   "metadata": {},
   "outputs": [
    {
     "data": {
      "image/png": "[encoded data removed]",
      "text/plain": [
       "<matplotlib.figure.Figure at 0x7ff6cee80828>"
      ]
     },
     "metadata": {
      "needs_background": "light"
     },
     "output_type": "display_data"
    }
   ],
   "source": [
    "top_breed_mean= pd.DataFrame(master[master['is_a_dog?_1']==True].groupby('predicted_breed_1')\n",
    "                        .mean()['favorite_count']).sort_values('favorite_count', ascending=False).head(10)\n",
    "top_breed_mean.plot(kind='barh')\n",
    "plt.title('average of favorites for each dog breed')\n",
    "plt.show()"
   ]
  },
  {
   "cell_type": "markdown",
   "metadata": {},
   "source": [
    "    RESULT:  the 'goloden_retriever' breed has the most tweets count & most favorites in total\n",
    "    but the 'Saluki' breed has the highest favorites rate in average (means its posts are more interactive)"
   ]
  },
  {
   "cell_type": "markdown",
   "metadata": {},
   "source": [
    "#### corelation between 'favorite_count' and 'retweet_count'"
   ]
  },
  {
   "cell_type": "code",
   "execution_count": 53,
   "metadata": {},
   "outputs": [
    {
     "data": {
      "image/png": "[encoded data removed]",
      "text/plain": [
       "<matplotlib.figure.Figure at 0x7ff6d150ffd0>"
      ]
     },
     "metadata": {
      "needs_background": "light"
     },
     "output_type": "display_data"
    }
   ],
   "source": [
    "master.plot(x='retweet_count', y='favorite_count', kind='scatter')\n",
    "plt.title('relation between favorite counts and retweet counts')\n",
    "plt.show()"
   ]
  },
  {
   "cell_type": "markdown",
   "metadata": {},
   "source": [
    "    RESULT:there is an obvious linear relation between the two"
   ]
  },
  {
   "cell_type": "markdown",
   "metadata": {},
   "source": [
    "#### Statistics on the ratings"
   ]
  },
  {
   "cell_type": "code",
   "execution_count": 59,
   "metadata": {},
   "outputs": [
    {
     "data": {
      "image/png": "[encoded data removed]",
      "text/plain": [
       "<matplotlib.figure.Figure at 0x7ff6ceccbcc0>"
      ]
     },
     "metadata": {
      "needs_background": "light"
     },
     "output_type": "display_data"
    }
   ],
   "source": [
    "#make a new column include the rating (in ratio)\n",
    "master['rating']= master['rating_numerator'] / master['rating_denominator']\n",
    "sorted_ratings= pd.DataFrame(master['rating']).sort_values('rating')\n",
    "sorted_ratings['rating'].value_counts().head(17).plot(kind='barh')\n",
    "plt.title('top given rating in ration')\n",
    "plt.xlabel(\"counts\")\n",
    "plt.ylabel(\"rating\")\n",
    "plt.show()"
   ]
  },
  {
   "cell_type": "code",
   "execution_count": 55,
   "metadata": {},
   "outputs": [
    {
     "data": {
      "text/html": [
       "<div>\n",
       "<style scoped>\n",
       "    .dataframe tbody tr th:only-of-type {\n",
       "        vertical-align: middle;\n",
       "    }\n",
       "\n",
       "    .dataframe tbody tr th {\n",
       "        vertical-align: top;\n",
       "    }\n",
       "\n",
       "    .dataframe thead th {\n",
       "        text-align: right;\n",
       "    }\n",
       "</style>\n",
       "<table border=\"1\" class=\"dataframe\">\n",
       "  <thead>\n",
       "    <tr style=\"text-align: right;\">\n",
       "      <th></th>\n",
       "      <th>rating</th>\n",
       "    </tr>\n",
       "  </thead>\n",
       "  <tbody>\n",
       "    <tr>\n",
       "      <th>count</th>\n",
       "      <td>1963.000000</td>\n",
       "    </tr>\n",
       "    <tr>\n",
       "      <th>mean</th>\n",
       "      <td>1.169273</td>\n",
       "    </tr>\n",
       "    <tr>\n",
       "      <th>std</th>\n",
       "      <td>4.098959</td>\n",
       "    </tr>\n",
       "    <tr>\n",
       "      <th>min</th>\n",
       "      <td>0.000000</td>\n",
       "    </tr>\n",
       "    <tr>\n",
       "      <th>25%</th>\n",
       "      <td>1.000000</td>\n",
       "    </tr>\n",
       "    <tr>\n",
       "      <th>50%</th>\n",
       "      <td>1.100000</td>\n",
       "    </tr>\n",
       "    <tr>\n",
       "      <th>75%</th>\n",
       "      <td>1.200000</td>\n",
       "    </tr>\n",
       "    <tr>\n",
       "      <th>max</th>\n",
       "      <td>177.600000</td>\n",
       "    </tr>\n",
       "  </tbody>\n",
       "</table>\n",
       "</div>"
      ],
      "text/plain": [
       "            rating\n",
       "count  1963.000000\n",
       "mean      1.169273\n",
       "std       4.098959\n",
       "min       0.000000\n",
       "25%       1.000000\n",
       "50%       1.100000\n",
       "75%       1.200000\n",
       "max     177.600000"
      ]
     },
     "execution_count": 55,
     "metadata": {},
     "output_type": "execute_result"
    }
   ],
   "source": [
    "sorted_ratings.describe()"
   ]
  },
  {
   "cell_type": "markdown",
   "metadata": {},
   "source": [
    "    RESULT: the most common rating are 10/10 and higher"
   ]
  },
  {
   "cell_type": "markdown",
   "metadata": {},
   "source": [
    "#### Most common dogs names"
   ]
  },
  {
   "cell_type": "code",
   "execution_count": 56,
   "metadata": {},
   "outputs": [
    {
     "data": {
      "image/png": "[encoded data removed]",
      "text/plain": [
       "<matplotlib.figure.Figure at 0x7ff6ceccb668>"
      ]
     },
     "metadata": {
      "needs_background": "light"
     },
     "output_type": "display_data"
    }
   ],
   "source": [
    "common_names= master['name'].value_counts().head(10)\n",
    "common_names.plot(kind='barh')\n",
    "plt.title('top names')\n",
    "plt.show()"
   ]
  },
  {
   "cell_type": "markdown",
   "metadata": {},
   "source": [
    "#### different sources of tweets"
   ]
  },
  {
   "cell_type": "code",
   "execution_count": 57,
   "metadata": {},
   "outputs": [
    {
     "data": {
      "text/plain": [
       "<a href=\"http://twitter.com/download/iphone\" rel=\"nofollow\">Twitter for iPhone</a>     1925\n",
       "<a href=\"http://twitter.com\" rel=\"nofollow\">Twitter Web Client</a>                       28\n",
       "<a href=\"https://about.twitter.com/products/tweetdeck\" rel=\"nofollow\">TweetDeck</a>      10\n",
       "Name: source, dtype: int64"
      ]
     },
     "execution_count": 57,
     "metadata": {},
     "output_type": "execute_result"
    }
   ],
   "source": [
    "sources= master['source'].value_counts()\n",
    "sources"
   ]
  },
  {
   "cell_type": "markdown",
   "metadata": {},
   "source": [
    "    RESULT: the twitter for iphone is far more common the the web client in the page"
   ]
  },
  {
   "cell_type": "markdown",
   "metadata": {},
   "source": [
    "#### Statistics on the confidences"
   ]
  },
  {
   "cell_type": "code",
   "execution_count": 61,
   "metadata": {
    "scrolled": true
   },
   "outputs": [
    {
     "name": "stderr",
     "output_type": "stream",
     "text": [
      "/opt/conda/lib/python3.6/site-packages/ipykernel_launcher.py:2: SettingWithCopyWarning: \n",
      "A value is trying to be set on a copy of a slice from a DataFrame.\n",
      "Try using .loc[row_indexer,col_indexer] = value instead\n",
      "\n",
      "See the caveats in the documentation: http://pandas.pydata.org/pandas-docs/stable/indexing.html#indexing-view-versus-copy\n",
      "  \n",
      "/opt/conda/lib/python3.6/site-packages/ipykernel_launcher.py:3: SettingWithCopyWarning: \n",
      "A value is trying to be set on a copy of a slice from a DataFrame.\n",
      "Try using .loc[row_indexer,col_indexer] = value instead\n",
      "\n",
      "See the caveats in the documentation: http://pandas.pydata.org/pandas-docs/stable/indexing.html#indexing-view-versus-copy\n",
      "  This is separate from the ipykernel package so we can avoid doing imports until\n",
      "/opt/conda/lib/python3.6/site-packages/ipykernel_launcher.py:4: SettingWithCopyWarning: \n",
      "A value is trying to be set on a copy of a slice from a DataFrame.\n",
      "Try using .loc[row_indexer,col_indexer] = value instead\n",
      "\n",
      "See the caveats in the documentation: http://pandas.pydata.org/pandas-docs/stable/indexing.html#indexing-view-versus-copy\n",
      "  after removing the cwd from sys.path.\n"
     ]
    },
    {
     "data": {
      "image/png": "[encoded data removed]",
      "text/plain": [
       "<matplotlib.figure.Figure at 0x7ff6d1b49630>"
      ]
     },
     "metadata": {
      "needs_background": "light"
     },
     "output_type": "display_data"
    }
   ],
   "source": [
    "confidences= master[['confidence_1', 'confidence_2', 'confidence_3']]\n",
    "confidences['confidence_1']= sorted(confidences['confidence_1'])\n",
    "confidences['confidence_2']= sorted(confidences['confidence_2'])\n",
    "confidences['confidence_3']= sorted(confidences['confidence_3'])\n",
    "\n",
    "confidences['confidence_1'].hist(alpha=.6)\n",
    "confidences['confidence_2'].hist(alpha=.6)\n",
    "confidences['confidence_3'].hist(alpha=.6)\n",
    "plt.legend(['c1','c2','c3'])\n",
    "plt.title('confidences')\n",
    "plt.xlabel(\"confidence\")\n",
    "plt.ylabel(\"counts\")\n",
    "plt.show()"
   ]
  },
  {
   "cell_type": "markdown",
   "metadata": {},
   "source": [
    "    RESULT: predicted_breed_1 is way accurate than predicted_breed_2 & predicted_breed_3 \n",
    "            (predicted_breed_1 was correct or almost correct many times)\n",
    "            predicted_breed_3 had confidence almost 0 many times \n",
    "            ... so it's better to depend on predicted_breed_1 over the others (but don’t depend on it completely as it was wrong sometimes also)"
   ]
  },
  {
   "cell_type": "code",
   "execution_count": null,
   "metadata": {},
   "outputs": [],
   "source": []
  },
  {
   "cell_type": "code",
   "execution_count": null,
   "metadata": {},
   "outputs": [],
   "source": []
  },
  {
   "cell_type": "code",
   "execution_count": null,
   "metadata": {},
   "outputs": [],
   "source": []
  },
  {
   "cell_type": "code",
   "execution_count": null,
   "metadata": {},
   "outputs": [],
   "source": []
  },
  {
   "cell_type": "code",
   "execution_count": null,
   "metadata": {},
   "outputs": [],
   "source": []
  }
 ],
 "metadata": {
  "kernelspec": {
   "display_name": "Python 3",
   "language": "python",
   "name": "python3"
  },
  "language_info": {
   "codemirror_mode": {
    "name": "ipython",
    "version": 3
   },
   "file_extension": ".py",
   "mimetype": "text/x-python",
   "name": "python",
   "nbconvert_exporter": "python",
   "pygments_lexer": "ipython3",
   "version": "3.8.8"
  }
 },
 "nbformat": 4,
 "nbformat_minor": 2
}
